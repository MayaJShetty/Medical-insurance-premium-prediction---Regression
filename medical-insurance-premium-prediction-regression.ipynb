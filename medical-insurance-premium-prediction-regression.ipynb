{
 "cells": [
  {
   "cell_type": "markdown",
   "id": "6bec06da",
   "metadata": {
    "papermill": {
     "duration": 0.019732,
     "end_time": "2023-07-20T02:19:58.723891",
     "exception": false,
     "start_time": "2023-07-20T02:19:58.704159",
     "status": "completed"
    },
    "tags": []
   },
   "source": [
    "# I. Imports"
   ]
  },
  {
   "cell_type": "markdown",
   "id": "ff10c419",
   "metadata": {
    "papermill": {
     "duration": 0.020414,
     "end_time": "2023-07-20T02:19:58.764067",
     "exception": false,
     "start_time": "2023-07-20T02:19:58.743653",
     "status": "completed"
    },
    "tags": []
   },
   "source": [
    "## Importing Libraries\n"
   ]
  },
  {
   "cell_type": "code",
   "execution_count": 1,
   "id": "8543fb7f",
   "metadata": {
    "execution": {
     "iopub.execute_input": "2023-07-20T02:19:58.804751Z",
     "iopub.status.busy": "2023-07-20T02:19:58.803976Z",
     "iopub.status.idle": "2023-07-20T02:20:00.515166Z",
     "shell.execute_reply": "2023-07-20T02:20:00.513634Z"
    },
    "papermill": {
     "duration": 1.735127,
     "end_time": "2023-07-20T02:20:00.518482",
     "exception": false,
     "start_time": "2023-07-20T02:19:58.783355",
     "status": "completed"
    },
    "tags": []
   },
   "outputs": [
    {
     "name": "stderr",
     "output_type": "stream",
     "text": [
      "/opt/conda/lib/python3.10/site-packages/scipy/__init__.py:146: UserWarning: A NumPy version >=1.16.5 and <1.23.0 is required for this version of SciPy (detected version 1.23.5\n",
      "  warnings.warn(f\"A NumPy version >={np_minversion} and <{np_maxversion}\"\n"
     ]
    }
   ],
   "source": [
    "import numpy as np # linear algebra\n",
    "import pandas as pd # data processing, CSV file I/O (e.g. pd.read_csv)\n",
    "import matplotlib.pyplot as plt\n",
    "import seaborn as sns\n",
    "pd.set_option('display.max_columns', None)"
   ]
  },
  {
   "cell_type": "markdown",
   "id": "4f4c634a",
   "metadata": {
    "papermill": {
     "duration": 0.019116,
     "end_time": "2023-07-20T02:20:00.558325",
     "exception": false,
     "start_time": "2023-07-20T02:20:00.539209",
     "status": "completed"
    },
    "tags": []
   },
   "source": [
    "## Importing the Dataset"
   ]
  },
  {
   "cell_type": "code",
   "execution_count": 2,
   "id": "7c1070e4",
   "metadata": {
    "execution": {
     "iopub.execute_input": "2023-07-20T02:20:00.600578Z",
     "iopub.status.busy": "2023-07-20T02:20:00.599741Z",
     "iopub.status.idle": "2023-07-20T02:20:00.636825Z",
     "shell.execute_reply": "2023-07-20T02:20:00.635363Z"
    },
    "papermill": {
     "duration": 0.061806,
     "end_time": "2023-07-20T02:20:00.639723",
     "exception": false,
     "start_time": "2023-07-20T02:20:00.577917",
     "status": "completed"
    },
    "tags": []
   },
   "outputs": [],
   "source": [
    "dataset = pd.read_csv(\"/kaggle/input/insurance/insurance.csv\")"
   ]
  },
  {
   "cell_type": "markdown",
   "id": "bb7ae56a",
   "metadata": {
    "papermill": {
     "duration": 0.019763,
     "end_time": "2023-07-20T02:20:00.680150",
     "exception": false,
     "start_time": "2023-07-20T02:20:00.660387",
     "status": "completed"
    },
    "tags": []
   },
   "source": [
    "# II. Data Preprocessing"
   ]
  },
  {
   "cell_type": "code",
   "execution_count": 3,
   "id": "d0980393",
   "metadata": {
    "execution": {
     "iopub.execute_input": "2023-07-20T02:20:00.721351Z",
     "iopub.status.busy": "2023-07-20T02:20:00.720188Z",
     "iopub.status.idle": "2023-07-20T02:20:00.747424Z",
     "shell.execute_reply": "2023-07-20T02:20:00.746390Z"
    },
    "papermill": {
     "duration": 0.050716,
     "end_time": "2023-07-20T02:20:00.750062",
     "exception": false,
     "start_time": "2023-07-20T02:20:00.699346",
     "status": "completed"
    },
    "tags": []
   },
   "outputs": [
    {
     "data": {
      "text/html": [
       "<div>\n",
       "<style scoped>\n",
       "    .dataframe tbody tr th:only-of-type {\n",
       "        vertical-align: middle;\n",
       "    }\n",
       "\n",
       "    .dataframe tbody tr th {\n",
       "        vertical-align: top;\n",
       "    }\n",
       "\n",
       "    .dataframe thead th {\n",
       "        text-align: right;\n",
       "    }\n",
       "</style>\n",
       "<table border=\"1\" class=\"dataframe\">\n",
       "  <thead>\n",
       "    <tr style=\"text-align: right;\">\n",
       "      <th></th>\n",
       "      <th>age</th>\n",
       "      <th>sex</th>\n",
       "      <th>bmi</th>\n",
       "      <th>children</th>\n",
       "      <th>smoker</th>\n",
       "      <th>region</th>\n",
       "      <th>charges</th>\n",
       "    </tr>\n",
       "  </thead>\n",
       "  <tbody>\n",
       "    <tr>\n",
       "      <th>0</th>\n",
       "      <td>19</td>\n",
       "      <td>female</td>\n",
       "      <td>27.900</td>\n",
       "      <td>0</td>\n",
       "      <td>yes</td>\n",
       "      <td>southwest</td>\n",
       "      <td>16884.92400</td>\n",
       "    </tr>\n",
       "    <tr>\n",
       "      <th>1</th>\n",
       "      <td>18</td>\n",
       "      <td>male</td>\n",
       "      <td>33.770</td>\n",
       "      <td>1</td>\n",
       "      <td>no</td>\n",
       "      <td>southeast</td>\n",
       "      <td>1725.55230</td>\n",
       "    </tr>\n",
       "    <tr>\n",
       "      <th>2</th>\n",
       "      <td>28</td>\n",
       "      <td>male</td>\n",
       "      <td>33.000</td>\n",
       "      <td>3</td>\n",
       "      <td>no</td>\n",
       "      <td>southeast</td>\n",
       "      <td>4449.46200</td>\n",
       "    </tr>\n",
       "    <tr>\n",
       "      <th>3</th>\n",
       "      <td>33</td>\n",
       "      <td>male</td>\n",
       "      <td>22.705</td>\n",
       "      <td>0</td>\n",
       "      <td>no</td>\n",
       "      <td>northwest</td>\n",
       "      <td>21984.47061</td>\n",
       "    </tr>\n",
       "    <tr>\n",
       "      <th>4</th>\n",
       "      <td>32</td>\n",
       "      <td>male</td>\n",
       "      <td>28.880</td>\n",
       "      <td>0</td>\n",
       "      <td>no</td>\n",
       "      <td>northwest</td>\n",
       "      <td>3866.85520</td>\n",
       "    </tr>\n",
       "  </tbody>\n",
       "</table>\n",
       "</div>"
      ],
      "text/plain": [
       "   age     sex     bmi  children smoker     region      charges\n",
       "0   19  female  27.900         0    yes  southwest  16884.92400\n",
       "1   18    male  33.770         1     no  southeast   1725.55230\n",
       "2   28    male  33.000         3     no  southeast   4449.46200\n",
       "3   33    male  22.705         0     no  northwest  21984.47061\n",
       "4   32    male  28.880         0     no  northwest   3866.85520"
      ]
     },
     "execution_count": 3,
     "metadata": {},
     "output_type": "execute_result"
    }
   ],
   "source": [
    "dataset.head()"
   ]
  },
  {
   "cell_type": "code",
   "execution_count": 4,
   "id": "0544d7db",
   "metadata": {
    "execution": {
     "iopub.execute_input": "2023-07-20T02:20:00.793302Z",
     "iopub.status.busy": "2023-07-20T02:20:00.792555Z",
     "iopub.status.idle": "2023-07-20T02:20:00.822757Z",
     "shell.execute_reply": "2023-07-20T02:20:00.821577Z"
    },
    "papermill": {
     "duration": 0.055276,
     "end_time": "2023-07-20T02:20:00.825334",
     "exception": false,
     "start_time": "2023-07-20T02:20:00.770058",
     "status": "completed"
    },
    "tags": []
   },
   "outputs": [
    {
     "name": "stdout",
     "output_type": "stream",
     "text": [
      "<class 'pandas.core.frame.DataFrame'>\n",
      "RangeIndex: 1338 entries, 0 to 1337\n",
      "Data columns (total 7 columns):\n",
      " #   Column    Non-Null Count  Dtype  \n",
      "---  ------    --------------  -----  \n",
      " 0   age       1338 non-null   int64  \n",
      " 1   sex       1338 non-null   object \n",
      " 2   bmi       1338 non-null   float64\n",
      " 3   children  1338 non-null   int64  \n",
      " 4   smoker    1338 non-null   object \n",
      " 5   region    1338 non-null   object \n",
      " 6   charges   1338 non-null   float64\n",
      "dtypes: float64(2), int64(2), object(3)\n",
      "memory usage: 73.3+ KB\n"
     ]
    }
   ],
   "source": [
    "dataset.info()"
   ]
  },
  {
   "cell_type": "code",
   "execution_count": 5,
   "id": "66c9be5b",
   "metadata": {
    "execution": {
     "iopub.execute_input": "2023-07-20T02:20:00.869352Z",
     "iopub.status.busy": "2023-07-20T02:20:00.868024Z",
     "iopub.status.idle": "2023-07-20T02:20:00.876679Z",
     "shell.execute_reply": "2023-07-20T02:20:00.875398Z"
    },
    "papermill": {
     "duration": 0.034044,
     "end_time": "2023-07-20T02:20:00.879481",
     "exception": false,
     "start_time": "2023-07-20T02:20:00.845437",
     "status": "completed"
    },
    "tags": []
   },
   "outputs": [
    {
     "data": {
      "text/plain": [
       "(1338, 7)"
      ]
     },
     "execution_count": 5,
     "metadata": {},
     "output_type": "execute_result"
    }
   ],
   "source": [
    "dataset.shape"
   ]
  },
  {
   "cell_type": "code",
   "execution_count": 6,
   "id": "11eb4433",
   "metadata": {
    "execution": {
     "iopub.execute_input": "2023-07-20T02:20:00.923094Z",
     "iopub.status.busy": "2023-07-20T02:20:00.922638Z",
     "iopub.status.idle": "2023-07-20T02:20:00.952863Z",
     "shell.execute_reply": "2023-07-20T02:20:00.951824Z"
    },
    "papermill": {
     "duration": 0.05543,
     "end_time": "2023-07-20T02:20:00.955568",
     "exception": false,
     "start_time": "2023-07-20T02:20:00.900138",
     "status": "completed"
    },
    "tags": []
   },
   "outputs": [
    {
     "data": {
      "text/html": [
       "<div>\n",
       "<style scoped>\n",
       "    .dataframe tbody tr th:only-of-type {\n",
       "        vertical-align: middle;\n",
       "    }\n",
       "\n",
       "    .dataframe tbody tr th {\n",
       "        vertical-align: top;\n",
       "    }\n",
       "\n",
       "    .dataframe thead th {\n",
       "        text-align: right;\n",
       "    }\n",
       "</style>\n",
       "<table border=\"1\" class=\"dataframe\">\n",
       "  <thead>\n",
       "    <tr style=\"text-align: right;\">\n",
       "      <th></th>\n",
       "      <th>age</th>\n",
       "      <th>bmi</th>\n",
       "      <th>children</th>\n",
       "      <th>charges</th>\n",
       "    </tr>\n",
       "  </thead>\n",
       "  <tbody>\n",
       "    <tr>\n",
       "      <th>count</th>\n",
       "      <td>1338.000000</td>\n",
       "      <td>1338.000000</td>\n",
       "      <td>1338.000000</td>\n",
       "      <td>1338.000000</td>\n",
       "    </tr>\n",
       "    <tr>\n",
       "      <th>mean</th>\n",
       "      <td>39.207025</td>\n",
       "      <td>30.663397</td>\n",
       "      <td>1.094918</td>\n",
       "      <td>13270.422265</td>\n",
       "    </tr>\n",
       "    <tr>\n",
       "      <th>std</th>\n",
       "      <td>14.049960</td>\n",
       "      <td>6.098187</td>\n",
       "      <td>1.205493</td>\n",
       "      <td>12110.011237</td>\n",
       "    </tr>\n",
       "    <tr>\n",
       "      <th>min</th>\n",
       "      <td>18.000000</td>\n",
       "      <td>15.960000</td>\n",
       "      <td>0.000000</td>\n",
       "      <td>1121.873900</td>\n",
       "    </tr>\n",
       "    <tr>\n",
       "      <th>25%</th>\n",
       "      <td>27.000000</td>\n",
       "      <td>26.296250</td>\n",
       "      <td>0.000000</td>\n",
       "      <td>4740.287150</td>\n",
       "    </tr>\n",
       "    <tr>\n",
       "      <th>50%</th>\n",
       "      <td>39.000000</td>\n",
       "      <td>30.400000</td>\n",
       "      <td>1.000000</td>\n",
       "      <td>9382.033000</td>\n",
       "    </tr>\n",
       "    <tr>\n",
       "      <th>75%</th>\n",
       "      <td>51.000000</td>\n",
       "      <td>34.693750</td>\n",
       "      <td>2.000000</td>\n",
       "      <td>16639.912515</td>\n",
       "    </tr>\n",
       "    <tr>\n",
       "      <th>max</th>\n",
       "      <td>64.000000</td>\n",
       "      <td>53.130000</td>\n",
       "      <td>5.000000</td>\n",
       "      <td>63770.428010</td>\n",
       "    </tr>\n",
       "  </tbody>\n",
       "</table>\n",
       "</div>"
      ],
      "text/plain": [
       "               age          bmi     children       charges\n",
       "count  1338.000000  1338.000000  1338.000000   1338.000000\n",
       "mean     39.207025    30.663397     1.094918  13270.422265\n",
       "std      14.049960     6.098187     1.205493  12110.011237\n",
       "min      18.000000    15.960000     0.000000   1121.873900\n",
       "25%      27.000000    26.296250     0.000000   4740.287150\n",
       "50%      39.000000    30.400000     1.000000   9382.033000\n",
       "75%      51.000000    34.693750     2.000000  16639.912515\n",
       "max      64.000000    53.130000     5.000000  63770.428010"
      ]
     },
     "execution_count": 6,
     "metadata": {},
     "output_type": "execute_result"
    }
   ],
   "source": [
    "dataset.describe()"
   ]
  },
  {
   "cell_type": "code",
   "execution_count": 7,
   "id": "b6cd0843",
   "metadata": {
    "execution": {
     "iopub.execute_input": "2023-07-20T02:20:00.998385Z",
     "iopub.status.busy": "2023-07-20T02:20:00.997944Z",
     "iopub.status.idle": "2023-07-20T02:20:01.018056Z",
     "shell.execute_reply": "2023-07-20T02:20:01.016660Z"
    },
    "papermill": {
     "duration": 0.045289,
     "end_time": "2023-07-20T02:20:01.021158",
     "exception": false,
     "start_time": "2023-07-20T02:20:00.975869",
     "status": "completed"
    },
    "tags": []
   },
   "outputs": [
    {
     "data": {
      "text/html": [
       "<div>\n",
       "<style scoped>\n",
       "    .dataframe tbody tr th:only-of-type {\n",
       "        vertical-align: middle;\n",
       "    }\n",
       "\n",
       "    .dataframe tbody tr th {\n",
       "        vertical-align: top;\n",
       "    }\n",
       "\n",
       "    .dataframe thead th {\n",
       "        text-align: right;\n",
       "    }\n",
       "</style>\n",
       "<table border=\"1\" class=\"dataframe\">\n",
       "  <thead>\n",
       "    <tr style=\"text-align: right;\">\n",
       "      <th></th>\n",
       "      <th>age</th>\n",
       "      <th>bmi</th>\n",
       "      <th>children</th>\n",
       "      <th>charges</th>\n",
       "    </tr>\n",
       "  </thead>\n",
       "  <tbody>\n",
       "    <tr>\n",
       "      <th>0</th>\n",
       "      <td>19</td>\n",
       "      <td>27.900</td>\n",
       "      <td>0</td>\n",
       "      <td>16884.92400</td>\n",
       "    </tr>\n",
       "    <tr>\n",
       "      <th>1</th>\n",
       "      <td>18</td>\n",
       "      <td>33.770</td>\n",
       "      <td>1</td>\n",
       "      <td>1725.55230</td>\n",
       "    </tr>\n",
       "    <tr>\n",
       "      <th>2</th>\n",
       "      <td>28</td>\n",
       "      <td>33.000</td>\n",
       "      <td>3</td>\n",
       "      <td>4449.46200</td>\n",
       "    </tr>\n",
       "    <tr>\n",
       "      <th>3</th>\n",
       "      <td>33</td>\n",
       "      <td>22.705</td>\n",
       "      <td>0</td>\n",
       "      <td>21984.47061</td>\n",
       "    </tr>\n",
       "    <tr>\n",
       "      <th>4</th>\n",
       "      <td>32</td>\n",
       "      <td>28.880</td>\n",
       "      <td>0</td>\n",
       "      <td>3866.85520</td>\n",
       "    </tr>\n",
       "    <tr>\n",
       "      <th>...</th>\n",
       "      <td>...</td>\n",
       "      <td>...</td>\n",
       "      <td>...</td>\n",
       "      <td>...</td>\n",
       "    </tr>\n",
       "    <tr>\n",
       "      <th>1333</th>\n",
       "      <td>50</td>\n",
       "      <td>30.970</td>\n",
       "      <td>3</td>\n",
       "      <td>10600.54830</td>\n",
       "    </tr>\n",
       "    <tr>\n",
       "      <th>1334</th>\n",
       "      <td>18</td>\n",
       "      <td>31.920</td>\n",
       "      <td>0</td>\n",
       "      <td>2205.98080</td>\n",
       "    </tr>\n",
       "    <tr>\n",
       "      <th>1335</th>\n",
       "      <td>18</td>\n",
       "      <td>36.850</td>\n",
       "      <td>0</td>\n",
       "      <td>1629.83350</td>\n",
       "    </tr>\n",
       "    <tr>\n",
       "      <th>1336</th>\n",
       "      <td>21</td>\n",
       "      <td>25.800</td>\n",
       "      <td>0</td>\n",
       "      <td>2007.94500</td>\n",
       "    </tr>\n",
       "    <tr>\n",
       "      <th>1337</th>\n",
       "      <td>61</td>\n",
       "      <td>29.070</td>\n",
       "      <td>0</td>\n",
       "      <td>29141.36030</td>\n",
       "    </tr>\n",
       "  </tbody>\n",
       "</table>\n",
       "<p>1338 rows × 4 columns</p>\n",
       "</div>"
      ],
      "text/plain": [
       "      age     bmi  children      charges\n",
       "0      19  27.900         0  16884.92400\n",
       "1      18  33.770         1   1725.55230\n",
       "2      28  33.000         3   4449.46200\n",
       "3      33  22.705         0  21984.47061\n",
       "4      32  28.880         0   3866.85520\n",
       "...   ...     ...       ...          ...\n",
       "1333   50  30.970         3  10600.54830\n",
       "1334   18  31.920         0   2205.98080\n",
       "1335   18  36.850         0   1629.83350\n",
       "1336   21  25.800         0   2007.94500\n",
       "1337   61  29.070         0  29141.36030\n",
       "\n",
       "[1338 rows x 4 columns]"
      ]
     },
     "execution_count": 7,
     "metadata": {},
     "output_type": "execute_result"
    }
   ],
   "source": [
    "dataset.select_dtypes(include=['int64', 'float64'])"
   ]
  },
  {
   "cell_type": "code",
   "execution_count": 8,
   "id": "c73bde51",
   "metadata": {
    "execution": {
     "iopub.execute_input": "2023-07-20T02:20:01.064354Z",
     "iopub.status.busy": "2023-07-20T02:20:01.063919Z",
     "iopub.status.idle": "2023-07-20T02:20:01.077925Z",
     "shell.execute_reply": "2023-07-20T02:20:01.076872Z"
    },
    "papermill": {
     "duration": 0.038828,
     "end_time": "2023-07-20T02:20:01.080449",
     "exception": false,
     "start_time": "2023-07-20T02:20:01.041621",
     "status": "completed"
    },
    "tags": []
   },
   "outputs": [
    {
     "data": {
      "text/html": [
       "<div>\n",
       "<style scoped>\n",
       "    .dataframe tbody tr th:only-of-type {\n",
       "        vertical-align: middle;\n",
       "    }\n",
       "\n",
       "    .dataframe tbody tr th {\n",
       "        vertical-align: top;\n",
       "    }\n",
       "\n",
       "    .dataframe thead th {\n",
       "        text-align: right;\n",
       "    }\n",
       "</style>\n",
       "<table border=\"1\" class=\"dataframe\">\n",
       "  <thead>\n",
       "    <tr style=\"text-align: right;\">\n",
       "      <th></th>\n",
       "      <th>sex</th>\n",
       "      <th>smoker</th>\n",
       "      <th>region</th>\n",
       "    </tr>\n",
       "  </thead>\n",
       "  <tbody>\n",
       "    <tr>\n",
       "      <th>0</th>\n",
       "      <td>female</td>\n",
       "      <td>yes</td>\n",
       "      <td>southwest</td>\n",
       "    </tr>\n",
       "    <tr>\n",
       "      <th>1</th>\n",
       "      <td>male</td>\n",
       "      <td>no</td>\n",
       "      <td>southeast</td>\n",
       "    </tr>\n",
       "    <tr>\n",
       "      <th>2</th>\n",
       "      <td>male</td>\n",
       "      <td>no</td>\n",
       "      <td>southeast</td>\n",
       "    </tr>\n",
       "    <tr>\n",
       "      <th>3</th>\n",
       "      <td>male</td>\n",
       "      <td>no</td>\n",
       "      <td>northwest</td>\n",
       "    </tr>\n",
       "    <tr>\n",
       "      <th>4</th>\n",
       "      <td>male</td>\n",
       "      <td>no</td>\n",
       "      <td>northwest</td>\n",
       "    </tr>\n",
       "    <tr>\n",
       "      <th>...</th>\n",
       "      <td>...</td>\n",
       "      <td>...</td>\n",
       "      <td>...</td>\n",
       "    </tr>\n",
       "    <tr>\n",
       "      <th>1333</th>\n",
       "      <td>male</td>\n",
       "      <td>no</td>\n",
       "      <td>northwest</td>\n",
       "    </tr>\n",
       "    <tr>\n",
       "      <th>1334</th>\n",
       "      <td>female</td>\n",
       "      <td>no</td>\n",
       "      <td>northeast</td>\n",
       "    </tr>\n",
       "    <tr>\n",
       "      <th>1335</th>\n",
       "      <td>female</td>\n",
       "      <td>no</td>\n",
       "      <td>southeast</td>\n",
       "    </tr>\n",
       "    <tr>\n",
       "      <th>1336</th>\n",
       "      <td>female</td>\n",
       "      <td>no</td>\n",
       "      <td>southwest</td>\n",
       "    </tr>\n",
       "    <tr>\n",
       "      <th>1337</th>\n",
       "      <td>female</td>\n",
       "      <td>yes</td>\n",
       "      <td>northwest</td>\n",
       "    </tr>\n",
       "  </tbody>\n",
       "</table>\n",
       "<p>1338 rows × 3 columns</p>\n",
       "</div>"
      ],
      "text/plain": [
       "         sex smoker     region\n",
       "0     female    yes  southwest\n",
       "1       male     no  southeast\n",
       "2       male     no  southeast\n",
       "3       male     no  northwest\n",
       "4       male     no  northwest\n",
       "...      ...    ...        ...\n",
       "1333    male     no  northwest\n",
       "1334  female     no  northeast\n",
       "1335  female     no  southeast\n",
       "1336  female     no  southwest\n",
       "1337  female    yes  northwest\n",
       "\n",
       "[1338 rows x 3 columns]"
      ]
     },
     "execution_count": 8,
     "metadata": {},
     "output_type": "execute_result"
    }
   ],
   "source": [
    "dataset.select_dtypes(include=['object'])"
   ]
  },
  {
   "cell_type": "code",
   "execution_count": 9,
   "id": "06410cf5",
   "metadata": {
    "execution": {
     "iopub.execute_input": "2023-07-20T02:20:01.124708Z",
     "iopub.status.busy": "2023-07-20T02:20:01.124255Z",
     "iopub.status.idle": "2023-07-20T02:20:01.133463Z",
     "shell.execute_reply": "2023-07-20T02:20:01.131944Z"
    },
    "papermill": {
     "duration": 0.034573,
     "end_time": "2023-07-20T02:20:01.136044",
     "exception": false,
     "start_time": "2023-07-20T02:20:01.101471",
     "status": "completed"
    },
    "tags": []
   },
   "outputs": [
    {
     "data": {
      "text/plain": [
       "array(['southwest', 'southeast', 'northwest', 'northeast'], dtype=object)"
      ]
     },
     "execution_count": 9,
     "metadata": {},
     "output_type": "execute_result"
    }
   ],
   "source": [
    "dataset['region'].unique()"
   ]
  },
  {
   "cell_type": "code",
   "execution_count": 10,
   "id": "b9df2ea3",
   "metadata": {
    "execution": {
     "iopub.execute_input": "2023-07-20T02:20:01.181384Z",
     "iopub.status.busy": "2023-07-20T02:20:01.180955Z",
     "iopub.status.idle": "2023-07-20T02:20:01.203384Z",
     "shell.execute_reply": "2023-07-20T02:20:01.201846Z"
    },
    "papermill": {
     "duration": 0.048057,
     "end_time": "2023-07-20T02:20:01.205749",
     "exception": false,
     "start_time": "2023-07-20T02:20:01.157692",
     "status": "completed"
    },
    "tags": []
   },
   "outputs": [
    {
     "name": "stderr",
     "output_type": "stream",
     "text": [
      "/tmp/ipykernel_20/2418984855.py:1: FutureWarning: The default value of numeric_only in DataFrameGroupBy.mean is deprecated. In a future version, numeric_only will default to False. Either specify numeric_only or select only columns which should be valid for the function.\n",
      "  dataset.groupby('region').mean()\n"
     ]
    },
    {
     "data": {
      "text/html": [
       "<div>\n",
       "<style scoped>\n",
       "    .dataframe tbody tr th:only-of-type {\n",
       "        vertical-align: middle;\n",
       "    }\n",
       "\n",
       "    .dataframe tbody tr th {\n",
       "        vertical-align: top;\n",
       "    }\n",
       "\n",
       "    .dataframe thead th {\n",
       "        text-align: right;\n",
       "    }\n",
       "</style>\n",
       "<table border=\"1\" class=\"dataframe\">\n",
       "  <thead>\n",
       "    <tr style=\"text-align: right;\">\n",
       "      <th></th>\n",
       "      <th>age</th>\n",
       "      <th>bmi</th>\n",
       "      <th>children</th>\n",
       "      <th>charges</th>\n",
       "    </tr>\n",
       "    <tr>\n",
       "      <th>region</th>\n",
       "      <th></th>\n",
       "      <th></th>\n",
       "      <th></th>\n",
       "      <th></th>\n",
       "    </tr>\n",
       "  </thead>\n",
       "  <tbody>\n",
       "    <tr>\n",
       "      <th>northeast</th>\n",
       "      <td>39.268519</td>\n",
       "      <td>29.173503</td>\n",
       "      <td>1.046296</td>\n",
       "      <td>13406.384516</td>\n",
       "    </tr>\n",
       "    <tr>\n",
       "      <th>northwest</th>\n",
       "      <td>39.196923</td>\n",
       "      <td>29.199785</td>\n",
       "      <td>1.147692</td>\n",
       "      <td>12417.575374</td>\n",
       "    </tr>\n",
       "    <tr>\n",
       "      <th>southeast</th>\n",
       "      <td>38.939560</td>\n",
       "      <td>33.355989</td>\n",
       "      <td>1.049451</td>\n",
       "      <td>14735.411438</td>\n",
       "    </tr>\n",
       "    <tr>\n",
       "      <th>southwest</th>\n",
       "      <td>39.455385</td>\n",
       "      <td>30.596615</td>\n",
       "      <td>1.141538</td>\n",
       "      <td>12346.937377</td>\n",
       "    </tr>\n",
       "  </tbody>\n",
       "</table>\n",
       "</div>"
      ],
      "text/plain": [
       "                 age        bmi  children       charges\n",
       "region                                                 \n",
       "northeast  39.268519  29.173503  1.046296  13406.384516\n",
       "northwest  39.196923  29.199785  1.147692  12417.575374\n",
       "southeast  38.939560  33.355989  1.049451  14735.411438\n",
       "southwest  39.455385  30.596615  1.141538  12346.937377"
      ]
     },
     "execution_count": 10,
     "metadata": {},
     "output_type": "execute_result"
    }
   ],
   "source": [
    "dataset.groupby('region').mean()"
   ]
  },
  {
   "cell_type": "code",
   "execution_count": 11,
   "id": "d5219780",
   "metadata": {
    "execution": {
     "iopub.execute_input": "2023-07-20T02:20:01.253245Z",
     "iopub.status.busy": "2023-07-20T02:20:01.252805Z",
     "iopub.status.idle": "2023-07-20T02:20:01.270662Z",
     "shell.execute_reply": "2023-07-20T02:20:01.269164Z"
    },
    "papermill": {
     "duration": 0.045397,
     "end_time": "2023-07-20T02:20:01.273825",
     "exception": false,
     "start_time": "2023-07-20T02:20:01.228428",
     "status": "completed"
    },
    "tags": []
   },
   "outputs": [
    {
     "name": "stderr",
     "output_type": "stream",
     "text": [
      "/tmp/ipykernel_20/587725788.py:1: FutureWarning: The default value of numeric_only in DataFrameGroupBy.mean is deprecated. In a future version, numeric_only will default to False. Either specify numeric_only or select only columns which should be valid for the function.\n",
      "  dataset.groupby('sex').mean()\n"
     ]
    },
    {
     "data": {
      "text/html": [
       "<div>\n",
       "<style scoped>\n",
       "    .dataframe tbody tr th:only-of-type {\n",
       "        vertical-align: middle;\n",
       "    }\n",
       "\n",
       "    .dataframe tbody tr th {\n",
       "        vertical-align: top;\n",
       "    }\n",
       "\n",
       "    .dataframe thead th {\n",
       "        text-align: right;\n",
       "    }\n",
       "</style>\n",
       "<table border=\"1\" class=\"dataframe\">\n",
       "  <thead>\n",
       "    <tr style=\"text-align: right;\">\n",
       "      <th></th>\n",
       "      <th>age</th>\n",
       "      <th>bmi</th>\n",
       "      <th>children</th>\n",
       "      <th>charges</th>\n",
       "    </tr>\n",
       "    <tr>\n",
       "      <th>sex</th>\n",
       "      <th></th>\n",
       "      <th></th>\n",
       "      <th></th>\n",
       "      <th></th>\n",
       "    </tr>\n",
       "  </thead>\n",
       "  <tbody>\n",
       "    <tr>\n",
       "      <th>female</th>\n",
       "      <td>39.503021</td>\n",
       "      <td>30.377749</td>\n",
       "      <td>1.074018</td>\n",
       "      <td>12569.578844</td>\n",
       "    </tr>\n",
       "    <tr>\n",
       "      <th>male</th>\n",
       "      <td>38.917160</td>\n",
       "      <td>30.943129</td>\n",
       "      <td>1.115385</td>\n",
       "      <td>13956.751178</td>\n",
       "    </tr>\n",
       "  </tbody>\n",
       "</table>\n",
       "</div>"
      ],
      "text/plain": [
       "              age        bmi  children       charges\n",
       "sex                                                 \n",
       "female  39.503021  30.377749  1.074018  12569.578844\n",
       "male    38.917160  30.943129  1.115385  13956.751178"
      ]
     },
     "execution_count": 11,
     "metadata": {},
     "output_type": "execute_result"
    }
   ],
   "source": [
    "dataset.groupby('sex').mean()"
   ]
  },
  {
   "cell_type": "code",
   "execution_count": 12,
   "id": "c8b76d08",
   "metadata": {
    "execution": {
     "iopub.execute_input": "2023-07-20T02:20:01.323062Z",
     "iopub.status.busy": "2023-07-20T02:20:01.322584Z",
     "iopub.status.idle": "2023-07-20T02:20:01.343901Z",
     "shell.execute_reply": "2023-07-20T02:20:01.342231Z"
    },
    "papermill": {
     "duration": 0.049326,
     "end_time": "2023-07-20T02:20:01.346473",
     "exception": false,
     "start_time": "2023-07-20T02:20:01.297147",
     "status": "completed"
    },
    "tags": []
   },
   "outputs": [
    {
     "name": "stderr",
     "output_type": "stream",
     "text": [
      "/tmp/ipykernel_20/3450466906.py:1: FutureWarning: The default value of numeric_only in DataFrameGroupBy.mean is deprecated. In a future version, numeric_only will default to False. Either specify numeric_only or select only columns which should be valid for the function.\n",
      "  dataset.groupby('smoker').mean()\n"
     ]
    },
    {
     "data": {
      "text/html": [
       "<div>\n",
       "<style scoped>\n",
       "    .dataframe tbody tr th:only-of-type {\n",
       "        vertical-align: middle;\n",
       "    }\n",
       "\n",
       "    .dataframe tbody tr th {\n",
       "        vertical-align: top;\n",
       "    }\n",
       "\n",
       "    .dataframe thead th {\n",
       "        text-align: right;\n",
       "    }\n",
       "</style>\n",
       "<table border=\"1\" class=\"dataframe\">\n",
       "  <thead>\n",
       "    <tr style=\"text-align: right;\">\n",
       "      <th></th>\n",
       "      <th>age</th>\n",
       "      <th>bmi</th>\n",
       "      <th>children</th>\n",
       "      <th>charges</th>\n",
       "    </tr>\n",
       "    <tr>\n",
       "      <th>smoker</th>\n",
       "      <th></th>\n",
       "      <th></th>\n",
       "      <th></th>\n",
       "      <th></th>\n",
       "    </tr>\n",
       "  </thead>\n",
       "  <tbody>\n",
       "    <tr>\n",
       "      <th>no</th>\n",
       "      <td>39.385338</td>\n",
       "      <td>30.651795</td>\n",
       "      <td>1.090226</td>\n",
       "      <td>8434.268298</td>\n",
       "    </tr>\n",
       "    <tr>\n",
       "      <th>yes</th>\n",
       "      <td>38.514599</td>\n",
       "      <td>30.708449</td>\n",
       "      <td>1.113139</td>\n",
       "      <td>32050.231832</td>\n",
       "    </tr>\n",
       "  </tbody>\n",
       "</table>\n",
       "</div>"
      ],
      "text/plain": [
       "              age        bmi  children       charges\n",
       "smoker                                              \n",
       "no      39.385338  30.651795  1.090226   8434.268298\n",
       "yes     38.514599  30.708449  1.113139  32050.231832"
      ]
     },
     "execution_count": 12,
     "metadata": {},
     "output_type": "execute_result"
    }
   ],
   "source": [
    "dataset.groupby('smoker').mean()"
   ]
  },
  {
   "cell_type": "markdown",
   "id": "391ec125",
   "metadata": {
    "papermill": {
     "duration": 0.021943,
     "end_time": "2023-07-20T02:20:01.390583",
     "exception": false,
     "start_time": "2023-07-20T02:20:01.368640",
     "status": "completed"
    },
    "tags": []
   },
   "source": [
    "## Dealing with Null Values"
   ]
  },
  {
   "cell_type": "code",
   "execution_count": 13,
   "id": "faa10c9e",
   "metadata": {
    "execution": {
     "iopub.execute_input": "2023-07-20T02:20:01.440492Z",
     "iopub.status.busy": "2023-07-20T02:20:01.439670Z",
     "iopub.status.idle": "2023-07-20T02:20:01.449707Z",
     "shell.execute_reply": "2023-07-20T02:20:01.448239Z"
    },
    "papermill": {
     "duration": 0.038858,
     "end_time": "2023-07-20T02:20:01.453194",
     "exception": false,
     "start_time": "2023-07-20T02:20:01.414336",
     "status": "completed"
    },
    "tags": []
   },
   "outputs": [
    {
     "data": {
      "text/plain": [
       "False"
      ]
     },
     "execution_count": 13,
     "metadata": {},
     "output_type": "execute_result"
    }
   ],
   "source": [
    "dataset.isnull().values.any()"
   ]
  },
  {
   "cell_type": "markdown",
   "id": "604e5b1d",
   "metadata": {
    "papermill": {
     "duration": 0.021746,
     "end_time": "2023-07-20T02:20:01.500611",
     "exception": false,
     "start_time": "2023-07-20T02:20:01.478865",
     "status": "completed"
    },
    "tags": []
   },
   "source": [
    "## One Hot Encoding"
   ]
  },
  {
   "cell_type": "code",
   "execution_count": 14,
   "id": "d41e30d2",
   "metadata": {
    "execution": {
     "iopub.execute_input": "2023-07-20T02:20:01.551845Z",
     "iopub.status.busy": "2023-07-20T02:20:01.551430Z",
     "iopub.status.idle": "2023-07-20T02:20:01.563675Z",
     "shell.execute_reply": "2023-07-20T02:20:01.562150Z"
    },
    "papermill": {
     "duration": 0.043512,
     "end_time": "2023-07-20T02:20:01.567843",
     "exception": false,
     "start_time": "2023-07-20T02:20:01.524331",
     "status": "completed"
    },
    "tags": []
   },
   "outputs": [],
   "source": [
    "dataset = pd.get_dummies(data=dataset, drop_first=True)"
   ]
  },
  {
   "cell_type": "code",
   "execution_count": 15,
   "id": "eb9965fb",
   "metadata": {
    "execution": {
     "iopub.execute_input": "2023-07-20T02:20:01.617224Z",
     "iopub.status.busy": "2023-07-20T02:20:01.616477Z",
     "iopub.status.idle": "2023-07-20T02:20:01.632442Z",
     "shell.execute_reply": "2023-07-20T02:20:01.630525Z"
    },
    "papermill": {
     "duration": 0.045148,
     "end_time": "2023-07-20T02:20:01.636295",
     "exception": false,
     "start_time": "2023-07-20T02:20:01.591147",
     "status": "completed"
    },
    "tags": []
   },
   "outputs": [
    {
     "data": {
      "text/html": [
       "<div>\n",
       "<style scoped>\n",
       "    .dataframe tbody tr th:only-of-type {\n",
       "        vertical-align: middle;\n",
       "    }\n",
       "\n",
       "    .dataframe tbody tr th {\n",
       "        vertical-align: top;\n",
       "    }\n",
       "\n",
       "    .dataframe thead th {\n",
       "        text-align: right;\n",
       "    }\n",
       "</style>\n",
       "<table border=\"1\" class=\"dataframe\">\n",
       "  <thead>\n",
       "    <tr style=\"text-align: right;\">\n",
       "      <th></th>\n",
       "      <th>age</th>\n",
       "      <th>bmi</th>\n",
       "      <th>children</th>\n",
       "      <th>charges</th>\n",
       "      <th>sex_male</th>\n",
       "      <th>smoker_yes</th>\n",
       "      <th>region_northwest</th>\n",
       "      <th>region_southeast</th>\n",
       "      <th>region_southwest</th>\n",
       "    </tr>\n",
       "  </thead>\n",
       "  <tbody>\n",
       "    <tr>\n",
       "      <th>0</th>\n",
       "      <td>19</td>\n",
       "      <td>27.900</td>\n",
       "      <td>0</td>\n",
       "      <td>16884.92400</td>\n",
       "      <td>0</td>\n",
       "      <td>1</td>\n",
       "      <td>0</td>\n",
       "      <td>0</td>\n",
       "      <td>1</td>\n",
       "    </tr>\n",
       "    <tr>\n",
       "      <th>1</th>\n",
       "      <td>18</td>\n",
       "      <td>33.770</td>\n",
       "      <td>1</td>\n",
       "      <td>1725.55230</td>\n",
       "      <td>1</td>\n",
       "      <td>0</td>\n",
       "      <td>0</td>\n",
       "      <td>1</td>\n",
       "      <td>0</td>\n",
       "    </tr>\n",
       "    <tr>\n",
       "      <th>2</th>\n",
       "      <td>28</td>\n",
       "      <td>33.000</td>\n",
       "      <td>3</td>\n",
       "      <td>4449.46200</td>\n",
       "      <td>1</td>\n",
       "      <td>0</td>\n",
       "      <td>0</td>\n",
       "      <td>1</td>\n",
       "      <td>0</td>\n",
       "    </tr>\n",
       "    <tr>\n",
       "      <th>3</th>\n",
       "      <td>33</td>\n",
       "      <td>22.705</td>\n",
       "      <td>0</td>\n",
       "      <td>21984.47061</td>\n",
       "      <td>1</td>\n",
       "      <td>0</td>\n",
       "      <td>1</td>\n",
       "      <td>0</td>\n",
       "      <td>0</td>\n",
       "    </tr>\n",
       "    <tr>\n",
       "      <th>4</th>\n",
       "      <td>32</td>\n",
       "      <td>28.880</td>\n",
       "      <td>0</td>\n",
       "      <td>3866.85520</td>\n",
       "      <td>1</td>\n",
       "      <td>0</td>\n",
       "      <td>1</td>\n",
       "      <td>0</td>\n",
       "      <td>0</td>\n",
       "    </tr>\n",
       "  </tbody>\n",
       "</table>\n",
       "</div>"
      ],
      "text/plain": [
       "   age     bmi  children      charges  sex_male  smoker_yes  region_northwest  \\\n",
       "0   19  27.900         0  16884.92400         0           1                 0   \n",
       "1   18  33.770         1   1725.55230         1           0                 0   \n",
       "2   28  33.000         3   4449.46200         1           0                 0   \n",
       "3   33  22.705         0  21984.47061         1           0                 1   \n",
       "4   32  28.880         0   3866.85520         1           0                 1   \n",
       "\n",
       "   region_southeast  region_southwest  \n",
       "0                 0                 1  \n",
       "1                 1                 0  \n",
       "2                 1                 0  \n",
       "3                 0                 0  \n",
       "4                 0                 0  "
      ]
     },
     "execution_count": 15,
     "metadata": {},
     "output_type": "execute_result"
    }
   ],
   "source": [
    "dataset.head()"
   ]
  },
  {
   "cell_type": "markdown",
   "id": "8c33d53f",
   "metadata": {
    "papermill": {
     "duration": 0.027925,
     "end_time": "2023-07-20T02:20:01.696099",
     "exception": false,
     "start_time": "2023-07-20T02:20:01.668174",
     "status": "completed"
    },
    "tags": []
   },
   "source": [
    "## Correlation Diagram"
   ]
  },
  {
   "cell_type": "code",
   "execution_count": 16,
   "id": "2885ab21",
   "metadata": {
    "execution": {
     "iopub.execute_input": "2023-07-20T02:20:01.757375Z",
     "iopub.status.busy": "2023-07-20T02:20:01.756138Z",
     "iopub.status.idle": "2023-07-20T02:20:02.290330Z",
     "shell.execute_reply": "2023-07-20T02:20:02.288936Z"
    },
    "papermill": {
     "duration": 0.566825,
     "end_time": "2023-07-20T02:20:02.293606",
     "exception": false,
     "start_time": "2023-07-20T02:20:01.726781",
     "status": "completed"
    },
    "tags": []
   },
   "outputs": [
    {
     "data": {
      "text/plain": [
       "<Axes: title={'center': 'Correlated'}>"
      ]
     },
     "execution_count": 16,
     "metadata": {},
     "output_type": "execute_result"
    },
    {
     "data": {
      "image/png": "[encoded data removed]",
      "text/plain": [
       "<Figure size 2000x1000 with 1 Axes>"
      ]
     },
     "metadata": {},
     "output_type": "display_data"
    }
   ],
   "source": [
    "dataset_2 = dataset.drop(columns='charges')\n",
    "\n",
    "dataset_2.corrwith(dataset['charges']).plot.bar(\n",
    "    figsize=(20, 10), title = \"Correlated\", rot=45, grid=True\n",
    ")"
   ]
  },
  {
   "cell_type": "markdown",
   "id": "0a56b5d6",
   "metadata": {
    "papermill": {
     "duration": 0.022934,
     "end_time": "2023-07-20T02:20:02.340064",
     "exception": false,
     "start_time": "2023-07-20T02:20:02.317130",
     "status": "completed"
    },
    "tags": []
   },
   "source": [
    "## Heatmap"
   ]
  },
  {
   "cell_type": "code",
   "execution_count": 17,
   "id": "5cd85c1d",
   "metadata": {
    "execution": {
     "iopub.execute_input": "2023-07-20T02:20:02.389396Z",
     "iopub.status.busy": "2023-07-20T02:20:02.388948Z",
     "iopub.status.idle": "2023-07-20T02:20:03.236705Z",
     "shell.execute_reply": "2023-07-20T02:20:03.235781Z"
    },
    "papermill": {
     "duration": 0.878193,
     "end_time": "2023-07-20T02:20:03.241708",
     "exception": false,
     "start_time": "2023-07-20T02:20:02.363515",
     "status": "completed"
    },
    "tags": []
   },
   "outputs": [
    {
     "data": {
      "text/plain": [
       "<Axes: >"
      ]
     },
     "execution_count": 17,
     "metadata": {},
     "output_type": "execute_result"
    },
    {
     "data": {
      "image/png": "[encoded data removed]",
      "text/plain": [
       "<Figure size 2000x1000 with 2 Axes>"
      ]
     },
     "metadata": {},
     "output_type": "display_data"
    }
   ],
   "source": [
    "corr = dataset.corr()\n",
    "plt.figure(figsize=(20,10))\n",
    "sns.heatmap(corr, annot=True, cmap='coolwarm')"
   ]
  },
  {
   "cell_type": "markdown",
   "id": "d70ddf54",
   "metadata": {
    "papermill": {
     "duration": 0.036821,
     "end_time": "2023-07-20T02:20:03.316115",
     "exception": false,
     "start_time": "2023-07-20T02:20:03.279294",
     "status": "completed"
    },
    "tags": []
   },
   "source": [
    "## Splitting the Data"
   ]
  },
  {
   "cell_type": "code",
   "execution_count": 18,
   "id": "2eaa5866",
   "metadata": {
    "execution": {
     "iopub.execute_input": "2023-07-20T02:20:03.381470Z",
     "iopub.status.busy": "2023-07-20T02:20:03.381084Z",
     "iopub.status.idle": "2023-07-20T02:20:03.388601Z",
     "shell.execute_reply": "2023-07-20T02:20:03.387402Z"
    },
    "papermill": {
     "duration": 0.038122,
     "end_time": "2023-07-20T02:20:03.391139",
     "exception": false,
     "start_time": "2023-07-20T02:20:03.353017",
     "status": "completed"
    },
    "tags": []
   },
   "outputs": [],
   "source": [
    "x = dataset.drop(columns='charges')\n",
    "y = dataset['charges']"
   ]
  },
  {
   "cell_type": "code",
   "execution_count": 19,
   "id": "04c8e0f5",
   "metadata": {
    "execution": {
     "iopub.execute_input": "2023-07-20T02:20:03.448267Z",
     "iopub.status.busy": "2023-07-20T02:20:03.447629Z",
     "iopub.status.idle": "2023-07-20T02:20:03.469387Z",
     "shell.execute_reply": "2023-07-20T02:20:03.467720Z"
    },
    "papermill": {
     "duration": 0.053068,
     "end_time": "2023-07-20T02:20:03.473029",
     "exception": false,
     "start_time": "2023-07-20T02:20:03.419961",
     "status": "completed"
    },
    "tags": []
   },
   "outputs": [
    {
     "data": {
      "text/html": [
       "<div>\n",
       "<style scoped>\n",
       "    .dataframe tbody tr th:only-of-type {\n",
       "        vertical-align: middle;\n",
       "    }\n",
       "\n",
       "    .dataframe tbody tr th {\n",
       "        vertical-align: top;\n",
       "    }\n",
       "\n",
       "    .dataframe thead th {\n",
       "        text-align: right;\n",
       "    }\n",
       "</style>\n",
       "<table border=\"1\" class=\"dataframe\">\n",
       "  <thead>\n",
       "    <tr style=\"text-align: right;\">\n",
       "      <th></th>\n",
       "      <th>age</th>\n",
       "      <th>bmi</th>\n",
       "      <th>children</th>\n",
       "      <th>sex_male</th>\n",
       "      <th>smoker_yes</th>\n",
       "      <th>region_northwest</th>\n",
       "      <th>region_southeast</th>\n",
       "      <th>region_southwest</th>\n",
       "    </tr>\n",
       "  </thead>\n",
       "  <tbody>\n",
       "    <tr>\n",
       "      <th>0</th>\n",
       "      <td>19</td>\n",
       "      <td>27.900</td>\n",
       "      <td>0</td>\n",
       "      <td>0</td>\n",
       "      <td>1</td>\n",
       "      <td>0</td>\n",
       "      <td>0</td>\n",
       "      <td>1</td>\n",
       "    </tr>\n",
       "    <tr>\n",
       "      <th>1</th>\n",
       "      <td>18</td>\n",
       "      <td>33.770</td>\n",
       "      <td>1</td>\n",
       "      <td>1</td>\n",
       "      <td>0</td>\n",
       "      <td>0</td>\n",
       "      <td>1</td>\n",
       "      <td>0</td>\n",
       "    </tr>\n",
       "    <tr>\n",
       "      <th>2</th>\n",
       "      <td>28</td>\n",
       "      <td>33.000</td>\n",
       "      <td>3</td>\n",
       "      <td>1</td>\n",
       "      <td>0</td>\n",
       "      <td>0</td>\n",
       "      <td>1</td>\n",
       "      <td>0</td>\n",
       "    </tr>\n",
       "    <tr>\n",
       "      <th>3</th>\n",
       "      <td>33</td>\n",
       "      <td>22.705</td>\n",
       "      <td>0</td>\n",
       "      <td>1</td>\n",
       "      <td>0</td>\n",
       "      <td>1</td>\n",
       "      <td>0</td>\n",
       "      <td>0</td>\n",
       "    </tr>\n",
       "    <tr>\n",
       "      <th>4</th>\n",
       "      <td>32</td>\n",
       "      <td>28.880</td>\n",
       "      <td>0</td>\n",
       "      <td>1</td>\n",
       "      <td>0</td>\n",
       "      <td>1</td>\n",
       "      <td>0</td>\n",
       "      <td>0</td>\n",
       "    </tr>\n",
       "    <tr>\n",
       "      <th>...</th>\n",
       "      <td>...</td>\n",
       "      <td>...</td>\n",
       "      <td>...</td>\n",
       "      <td>...</td>\n",
       "      <td>...</td>\n",
       "      <td>...</td>\n",
       "      <td>...</td>\n",
       "      <td>...</td>\n",
       "    </tr>\n",
       "    <tr>\n",
       "      <th>1333</th>\n",
       "      <td>50</td>\n",
       "      <td>30.970</td>\n",
       "      <td>3</td>\n",
       "      <td>1</td>\n",
       "      <td>0</td>\n",
       "      <td>1</td>\n",
       "      <td>0</td>\n",
       "      <td>0</td>\n",
       "    </tr>\n",
       "    <tr>\n",
       "      <th>1334</th>\n",
       "      <td>18</td>\n",
       "      <td>31.920</td>\n",
       "      <td>0</td>\n",
       "      <td>0</td>\n",
       "      <td>0</td>\n",
       "      <td>0</td>\n",
       "      <td>0</td>\n",
       "      <td>0</td>\n",
       "    </tr>\n",
       "    <tr>\n",
       "      <th>1335</th>\n",
       "      <td>18</td>\n",
       "      <td>36.850</td>\n",
       "      <td>0</td>\n",
       "      <td>0</td>\n",
       "      <td>0</td>\n",
       "      <td>0</td>\n",
       "      <td>1</td>\n",
       "      <td>0</td>\n",
       "    </tr>\n",
       "    <tr>\n",
       "      <th>1336</th>\n",
       "      <td>21</td>\n",
       "      <td>25.800</td>\n",
       "      <td>0</td>\n",
       "      <td>0</td>\n",
       "      <td>0</td>\n",
       "      <td>0</td>\n",
       "      <td>0</td>\n",
       "      <td>1</td>\n",
       "    </tr>\n",
       "    <tr>\n",
       "      <th>1337</th>\n",
       "      <td>61</td>\n",
       "      <td>29.070</td>\n",
       "      <td>0</td>\n",
       "      <td>0</td>\n",
       "      <td>1</td>\n",
       "      <td>1</td>\n",
       "      <td>0</td>\n",
       "      <td>0</td>\n",
       "    </tr>\n",
       "  </tbody>\n",
       "</table>\n",
       "<p>1338 rows × 8 columns</p>\n",
       "</div>"
      ],
      "text/plain": [
       "      age     bmi  children  sex_male  smoker_yes  region_northwest  \\\n",
       "0      19  27.900         0         0           1                 0   \n",
       "1      18  33.770         1         1           0                 0   \n",
       "2      28  33.000         3         1           0                 0   \n",
       "3      33  22.705         0         1           0                 1   \n",
       "4      32  28.880         0         1           0                 1   \n",
       "...   ...     ...       ...       ...         ...               ...   \n",
       "1333   50  30.970         3         1           0                 1   \n",
       "1334   18  31.920         0         0           0                 0   \n",
       "1335   18  36.850         0         0           0                 0   \n",
       "1336   21  25.800         0         0           0                 0   \n",
       "1337   61  29.070         0         0           1                 1   \n",
       "\n",
       "      region_southeast  region_southwest  \n",
       "0                    0                 1  \n",
       "1                    1                 0  \n",
       "2                    1                 0  \n",
       "3                    0                 0  \n",
       "4                    0                 0  \n",
       "...                ...               ...  \n",
       "1333                 0                 0  \n",
       "1334                 0                 0  \n",
       "1335                 1                 0  \n",
       "1336                 0                 1  \n",
       "1337                 0                 0  \n",
       "\n",
       "[1338 rows x 8 columns]"
      ]
     },
     "execution_count": 19,
     "metadata": {},
     "output_type": "execute_result"
    }
   ],
   "source": [
    "x"
   ]
  },
  {
   "cell_type": "code",
   "execution_count": 20,
   "id": "d4b725f9",
   "metadata": {
    "execution": {
     "iopub.execute_input": "2023-07-20T02:20:03.536169Z",
     "iopub.status.busy": "2023-07-20T02:20:03.534050Z",
     "iopub.status.idle": "2023-07-20T02:20:03.545699Z",
     "shell.execute_reply": "2023-07-20T02:20:03.544555Z"
    },
    "papermill": {
     "duration": 0.042324,
     "end_time": "2023-07-20T02:20:03.548211",
     "exception": false,
     "start_time": "2023-07-20T02:20:03.505887",
     "status": "completed"
    },
    "tags": []
   },
   "outputs": [
    {
     "data": {
      "text/plain": [
       "0       16884.92400\n",
       "1        1725.55230\n",
       "2        4449.46200\n",
       "3       21984.47061\n",
       "4        3866.85520\n",
       "           ...     \n",
       "1333    10600.54830\n",
       "1334     2205.98080\n",
       "1335     1629.83350\n",
       "1336     2007.94500\n",
       "1337    29141.36030\n",
       "Name: charges, Length: 1338, dtype: float64"
      ]
     },
     "execution_count": 20,
     "metadata": {},
     "output_type": "execute_result"
    }
   ],
   "source": [
    "y"
   ]
  },
  {
   "cell_type": "code",
   "execution_count": 21,
   "id": "1eb46997",
   "metadata": {
    "execution": {
     "iopub.execute_input": "2023-07-20T02:20:03.603819Z",
     "iopub.status.busy": "2023-07-20T02:20:03.602551Z",
     "iopub.status.idle": "2023-07-20T02:20:03.909482Z",
     "shell.execute_reply": "2023-07-20T02:20:03.908434Z"
    },
    "papermill": {
     "duration": 0.336889,
     "end_time": "2023-07-20T02:20:03.912187",
     "exception": false,
     "start_time": "2023-07-20T02:20:03.575298",
     "status": "completed"
    },
    "tags": []
   },
   "outputs": [],
   "source": [
    "from sklearn.model_selection import train_test_split\n",
    "x_train, x_test, y_train, y_test = train_test_split(x, y, test_size = 0.2, random_state=0)"
   ]
  },
  {
   "cell_type": "code",
   "execution_count": 22,
   "id": "e80d3d91",
   "metadata": {
    "execution": {
     "iopub.execute_input": "2023-07-20T02:20:03.970375Z",
     "iopub.status.busy": "2023-07-20T02:20:03.969958Z",
     "iopub.status.idle": "2023-07-20T02:20:03.977654Z",
     "shell.execute_reply": "2023-07-20T02:20:03.976501Z"
    },
    "papermill": {
     "duration": 0.041319,
     "end_time": "2023-07-20T02:20:03.980282",
     "exception": false,
     "start_time": "2023-07-20T02:20:03.938963",
     "status": "completed"
    },
    "tags": []
   },
   "outputs": [
    {
     "data": {
      "text/plain": [
       "((1070, 8), (268, 8))"
      ]
     },
     "execution_count": 22,
     "metadata": {},
     "output_type": "execute_result"
    }
   ],
   "source": [
    "x_train.shape, x_test.shape"
   ]
  },
  {
   "cell_type": "code",
   "execution_count": 23,
   "id": "1a674b1e",
   "metadata": {
    "execution": {
     "iopub.execute_input": "2023-07-20T02:20:04.034918Z",
     "iopub.status.busy": "2023-07-20T02:20:04.034013Z",
     "iopub.status.idle": "2023-07-20T02:20:04.042367Z",
     "shell.execute_reply": "2023-07-20T02:20:04.041161Z"
    },
    "papermill": {
     "duration": 0.039821,
     "end_time": "2023-07-20T02:20:04.045697",
     "exception": false,
     "start_time": "2023-07-20T02:20:04.005876",
     "status": "completed"
    },
    "tags": []
   },
   "outputs": [
    {
     "data": {
      "text/plain": [
       "((1070,), (268,))"
      ]
     },
     "execution_count": 23,
     "metadata": {},
     "output_type": "execute_result"
    }
   ],
   "source": [
    "y_train.shape, y_test.shape"
   ]
  },
  {
   "cell_type": "markdown",
   "id": "69e6d190",
   "metadata": {
    "papermill": {
     "duration": 0.028777,
     "end_time": "2023-07-20T02:20:04.103737",
     "exception": false,
     "start_time": "2023-07-20T02:20:04.074960",
     "status": "completed"
    },
    "tags": []
   },
   "source": [
    "## Scaling"
   ]
  },
  {
   "cell_type": "code",
   "execution_count": 24,
   "id": "1793c7fd",
   "metadata": {
    "execution": {
     "iopub.execute_input": "2023-07-20T02:20:04.160573Z",
     "iopub.status.busy": "2023-07-20T02:20:04.158693Z",
     "iopub.status.idle": "2023-07-20T02:20:04.172275Z",
     "shell.execute_reply": "2023-07-20T02:20:04.171271Z"
    },
    "papermill": {
     "duration": 0.043602,
     "end_time": "2023-07-20T02:20:04.174970",
     "exception": false,
     "start_time": "2023-07-20T02:20:04.131368",
     "status": "completed"
    },
    "tags": []
   },
   "outputs": [],
   "source": [
    "from sklearn.preprocessing import StandardScaler\n",
    "\n",
    "sc = StandardScaler()\n",
    "\n",
    "x_train = sc.fit_transform(x_train)\n",
    "x_test = sc.transform(x_test)"
   ]
  },
  {
   "cell_type": "code",
   "execution_count": 25,
   "id": "98a79538",
   "metadata": {
    "execution": {
     "iopub.execute_input": "2023-07-20T02:20:04.228819Z",
     "iopub.status.busy": "2023-07-20T02:20:04.228409Z",
     "iopub.status.idle": "2023-07-20T02:20:04.236908Z",
     "shell.execute_reply": "2023-07-20T02:20:04.235486Z"
    },
    "papermill": {
     "duration": 0.038742,
     "end_time": "2023-07-20T02:20:04.239705",
     "exception": false,
     "start_time": "2023-07-20T02:20:04.200963",
     "status": "completed"
    },
    "tags": []
   },
   "outputs": [
    {
     "data": {
      "text/plain": [
       "array([[-0.14853305,  0.54530479,  2.41394802, ..., -0.55791981,\n",
       "        -0.6155209 ,  1.70862925],\n",
       "       [-1.49780784,  0.59867181, -0.89219519, ..., -0.55791981,\n",
       "         1.6246402 , -0.58526447],\n",
       "       [-1.14273553,  0.96092064,  0.76087642, ..., -0.55791981,\n",
       "        -0.6155209 , -0.58526447],\n",
       "       ...,\n",
       "       [ 0.06451033, -0.91339361, -0.89219519, ..., -0.55791981,\n",
       "         1.6246402 , -0.58526447],\n",
       "       [-1.42679338,  0.77656186, -0.89219519, ...,  1.79237229,\n",
       "        -0.6155209 , -0.58526447],\n",
       "       [-0.4325909 , -1.97749955, -0.06565939, ..., -0.55791981,\n",
       "        -0.6155209 ,  1.70862925]])"
      ]
     },
     "execution_count": 25,
     "metadata": {},
     "output_type": "execute_result"
    }
   ],
   "source": [
    "x_train"
   ]
  },
  {
   "cell_type": "code",
   "execution_count": 26,
   "id": "40d9d5e9",
   "metadata": {
    "execution": {
     "iopub.execute_input": "2023-07-20T02:20:04.294666Z",
     "iopub.status.busy": "2023-07-20T02:20:04.294257Z",
     "iopub.status.idle": "2023-07-20T02:20:04.302448Z",
     "shell.execute_reply": "2023-07-20T02:20:04.301211Z"
    },
    "papermill": {
     "duration": 0.038342,
     "end_time": "2023-07-20T02:20:04.304993",
     "exception": false,
     "start_time": "2023-07-20T02:20:04.266651",
     "status": "completed"
    },
    "tags": []
   },
   "outputs": [
    {
     "data": {
      "text/plain": [
       "array([[ 0.91668389, -0.08539629, -0.06565939, ..., -0.55791981,\n",
       "        -0.6155209 ,  1.70862925],\n",
       "       [ 0.56161157, -0.21962242, -0.06565939, ..., -0.55791981,\n",
       "         1.6246402 , -0.58526447],\n",
       "       [ 0.63262604,  1.59081313,  0.76087642, ...,  1.79237229,\n",
       "        -0.6155209 , -0.58526447],\n",
       "       ...,\n",
       "       [ 1.2717562 ,  1.54472343, -0.89219519, ..., -0.55791981,\n",
       "        -0.6155209 , -0.58526447],\n",
       "       [-0.64563429,  1.34581001,  1.58741222, ..., -0.55791981,\n",
       "         1.6246402 , -0.58526447],\n",
       "       [ 0.49059711, -0.95948331,  1.58741222, ..., -0.55791981,\n",
       "        -0.6155209 , -0.58526447]])"
      ]
     },
     "execution_count": 26,
     "metadata": {},
     "output_type": "execute_result"
    }
   ],
   "source": [
    "x_test"
   ]
  },
  {
   "cell_type": "markdown",
   "id": "cdd19618",
   "metadata": {
    "papermill": {
     "duration": 0.027116,
     "end_time": "2023-07-20T02:20:04.358526",
     "exception": false,
     "start_time": "2023-07-20T02:20:04.331410",
     "status": "completed"
    },
    "tags": []
   },
   "source": [
    "# Linear Regression"
   ]
  },
  {
   "cell_type": "markdown",
   "id": "f1ab9fb9",
   "metadata": {
    "papermill": {
     "duration": 0.029901,
     "end_time": "2023-07-20T02:20:04.417030",
     "exception": false,
     "start_time": "2023-07-20T02:20:04.387129",
     "status": "completed"
    },
    "tags": []
   },
   "source": [
    "## III. Bulding the Model"
   ]
  },
  {
   "cell_type": "code",
   "execution_count": 27,
   "id": "51e3102c",
   "metadata": {
    "execution": {
     "iopub.execute_input": "2023-07-20T02:20:04.473912Z",
     "iopub.status.busy": "2023-07-20T02:20:04.473107Z",
     "iopub.status.idle": "2023-07-20T02:20:04.586312Z",
     "shell.execute_reply": "2023-07-20T02:20:04.584827Z"
    },
    "papermill": {
     "duration": 0.14454,
     "end_time": "2023-07-20T02:20:04.589343",
     "exception": false,
     "start_time": "2023-07-20T02:20:04.444803",
     "status": "completed"
    },
    "tags": []
   },
   "outputs": [],
   "source": [
    "from sklearn.linear_model import LinearRegression\n",
    "\n",
    "regressor_lr = LinearRegression()"
   ]
  },
  {
   "cell_type": "markdown",
   "id": "3109553f",
   "metadata": {
    "papermill": {
     "duration": 0.025809,
     "end_time": "2023-07-20T02:20:04.642409",
     "exception": false,
     "start_time": "2023-07-20T02:20:04.616600",
     "status": "completed"
    },
    "tags": []
   },
   "source": [
    "## IV. Training the Model"
   ]
  },
  {
   "cell_type": "code",
   "execution_count": 28,
   "id": "a3822ccd",
   "metadata": {
    "execution": {
     "iopub.execute_input": "2023-07-20T02:20:04.699008Z",
     "iopub.status.busy": "2023-07-20T02:20:04.698575Z",
     "iopub.status.idle": "2023-07-20T02:20:04.733891Z",
     "shell.execute_reply": "2023-07-20T02:20:04.733006Z"
    },
    "papermill": {
     "duration": 0.065306,
     "end_time": "2023-07-20T02:20:04.736449",
     "exception": false,
     "start_time": "2023-07-20T02:20:04.671143",
     "status": "completed"
    },
    "tags": []
   },
   "outputs": [
    {
     "data": {
      "text/html": [
       "<style>#sk-container-id-1 {color: black;background-color: white;}#sk-container-id-1 pre{padding: 0;}#sk-container-id-1 div.sk-toggleable {background-color: white;}#sk-container-id-1 label.sk-toggleable__label {cursor: pointer;display: block;width: 100%;margin-bottom: 0;padding: 0.3em;box-sizing: border-box;text-align: center;}#sk-container-id-1 label.sk-toggleable__label-arrow:before {content: \"▸\";float: left;margin-right: 0.25em;color: #696969;}#sk-container-id-1 label.sk-toggleable__label-arrow:hover:before {color: black;}#sk-container-id-1 div.sk-estimator:hover label.sk-toggleable__label-arrow:before {color: black;}#sk-container-id-1 div.sk-toggleable__content {max-height: 0;max-width: 0;overflow: hidden;text-align: left;background-color: #f0f8ff;}#sk-container-id-1 div.sk-toggleable__content pre {margin: 0.2em;color: black;border-radius: 0.25em;background-color: #f0f8ff;}#sk-container-id-1 input.sk-toggleable__control:checked~div.sk-toggleable__content {max-height: 200px;max-width: 100%;overflow: auto;}#sk-container-id-1 input.sk-toggleable__control:checked~label.sk-toggleable__label-arrow:before {content: \"▾\";}#sk-container-id-1 div.sk-estimator input.sk-toggleable__control:checked~label.sk-toggleable__label {background-color: #d4ebff;}#sk-container-id-1 div.sk-label input.sk-toggleable__control:checked~label.sk-toggleable__label {background-color: #d4ebff;}#sk-container-id-1 input.sk-hidden--visually {border: 0;clip: rect(1px 1px 1px 1px);clip: rect(1px, 1px, 1px, 1px);height: 1px;margin: -1px;overflow: hidden;padding: 0;position: absolute;width: 1px;}#sk-container-id-1 div.sk-estimator {font-family: monospace;background-color: #f0f8ff;border: 1px dotted black;border-radius: 0.25em;box-sizing: border-box;margin-bottom: 0.5em;}#sk-container-id-1 div.sk-estimator:hover {background-color: #d4ebff;}#sk-container-id-1 div.sk-parallel-item::after {content: \"\";width: 100%;border-bottom: 1px solid gray;flex-grow: 1;}#sk-container-id-1 div.sk-label:hover label.sk-toggleable__label {background-color: #d4ebff;}#sk-container-id-1 div.sk-serial::before {content: \"\";position: absolute;border-left: 1px solid gray;box-sizing: border-box;top: 0;bottom: 0;left: 50%;z-index: 0;}#sk-container-id-1 div.sk-serial {display: flex;flex-direction: column;align-items: center;background-color: white;padding-right: 0.2em;padding-left: 0.2em;position: relative;}#sk-container-id-1 div.sk-item {position: relative;z-index: 1;}#sk-container-id-1 div.sk-parallel {display: flex;align-items: stretch;justify-content: center;background-color: white;position: relative;}#sk-container-id-1 div.sk-item::before, #sk-container-id-1 div.sk-parallel-item::before {content: \"\";position: absolute;border-left: 1px solid gray;box-sizing: border-box;top: 0;bottom: 0;left: 50%;z-index: -1;}#sk-container-id-1 div.sk-parallel-item {display: flex;flex-direction: column;z-index: 1;position: relative;background-color: white;}#sk-container-id-1 div.sk-parallel-item:first-child::after {align-self: flex-end;width: 50%;}#sk-container-id-1 div.sk-parallel-item:last-child::after {align-self: flex-start;width: 50%;}#sk-container-id-1 div.sk-parallel-item:only-child::after {width: 0;}#sk-container-id-1 div.sk-dashed-wrapped {border: 1px dashed gray;margin: 0 0.4em 0.5em 0.4em;box-sizing: border-box;padding-bottom: 0.4em;background-color: white;}#sk-container-id-1 div.sk-label label {font-family: monospace;font-weight: bold;display: inline-block;line-height: 1.2em;}#sk-container-id-1 div.sk-label-container {text-align: center;}#sk-container-id-1 div.sk-container {/* jupyter's `normalize.less` sets `[hidden] { display: none; }` but bootstrap.min.css set `[hidden] { display: none !important; }` so we also need the `!important` here to be able to override the default hidden behavior on the sphinx rendered scikit-learn.org. See: https://github.com/scikit-learn/scikit-learn/issues/21755 */display: inline-block !important;position: relative;}#sk-container-id-1 div.sk-text-repr-fallback {display: none;}</style><div id=\"sk-container-id-1\" class=\"sk-top-container\"><div class=\"sk-text-repr-fallback\"><pre>LinearRegression()</pre><b>In a Jupyter environment, please rerun this cell to show the HTML representation or trust the notebook. <br />On GitHub, the HTML representation is unable to render, please try loading this page with nbviewer.org.</b></div><div class=\"sk-container\" hidden><div class=\"sk-item\"><div class=\"sk-estimator sk-toggleable\"><input class=\"sk-toggleable__control sk-hidden--visually\" id=\"sk-estimator-id-1\" type=\"checkbox\" checked><label for=\"sk-estimator-id-1\" class=\"sk-toggleable__label sk-toggleable__label-arrow\">LinearRegression</label><div class=\"sk-toggleable__content\"><pre>LinearRegression()</pre></div></div></div></div></div>"
      ],
      "text/plain": [
       "LinearRegression()"
      ]
     },
     "execution_count": 28,
     "metadata": {},
     "output_type": "execute_result"
    }
   ],
   "source": [
    "regressor_lr.fit(x_train, y_train)"
   ]
  },
  {
   "cell_type": "markdown",
   "id": "c31a88b7",
   "metadata": {
    "papermill": {
     "duration": 0.027214,
     "end_time": "2023-07-20T02:20:04.791717",
     "exception": false,
     "start_time": "2023-07-20T02:20:04.764503",
     "status": "completed"
    },
    "tags": []
   },
   "source": [
    "## V. Evaluating the Model"
   ]
  },
  {
   "cell_type": "code",
   "execution_count": 29,
   "id": "2ff7ad22",
   "metadata": {
    "execution": {
     "iopub.execute_input": "2023-07-20T02:20:04.850403Z",
     "iopub.status.busy": "2023-07-20T02:20:04.849929Z",
     "iopub.status.idle": "2023-07-20T02:20:04.855069Z",
     "shell.execute_reply": "2023-07-20T02:20:04.854129Z"
    },
    "papermill": {
     "duration": 0.036463,
     "end_time": "2023-07-20T02:20:04.857422",
     "exception": false,
     "start_time": "2023-07-20T02:20:04.820959",
     "status": "completed"
    },
    "tags": []
   },
   "outputs": [],
   "source": [
    "y_pred = regressor_lr.predict(x_test)"
   ]
  },
  {
   "cell_type": "markdown",
   "id": "84681073",
   "metadata": {
    "papermill": {
     "duration": 0.027296,
     "end_time": "2023-07-20T02:20:04.912080",
     "exception": false,
     "start_time": "2023-07-20T02:20:04.884784",
     "status": "completed"
    },
    "tags": []
   },
   "source": [
    "### Loading the Metrics"
   ]
  },
  {
   "cell_type": "code",
   "execution_count": 30,
   "id": "a2eff170",
   "metadata": {
    "execution": {
     "iopub.execute_input": "2023-07-20T02:20:04.968472Z",
     "iopub.status.busy": "2023-07-20T02:20:04.968071Z",
     "iopub.status.idle": "2023-07-20T02:20:04.972495Z",
     "shell.execute_reply": "2023-07-20T02:20:04.971492Z"
    },
    "papermill": {
     "duration": 0.036109,
     "end_time": "2023-07-20T02:20:04.974826",
     "exception": false,
     "start_time": "2023-07-20T02:20:04.938717",
     "status": "completed"
    },
    "tags": []
   },
   "outputs": [],
   "source": [
    "from sklearn.metrics import r2_score"
   ]
  },
  {
   "cell_type": "markdown",
   "id": "02837875",
   "metadata": {
    "papermill": {
     "duration": 0.027798,
     "end_time": "2023-07-20T02:20:05.029908",
     "exception": false,
     "start_time": "2023-07-20T02:20:05.002110",
     "status": "completed"
    },
    "tags": []
   },
   "source": [
    "### Getting the Results"
   ]
  },
  {
   "cell_type": "code",
   "execution_count": 31,
   "id": "bdfb4fc5",
   "metadata": {
    "execution": {
     "iopub.execute_input": "2023-07-20T02:20:05.088604Z",
     "iopub.status.busy": "2023-07-20T02:20:05.088149Z",
     "iopub.status.idle": "2023-07-20T02:20:05.096710Z",
     "shell.execute_reply": "2023-07-20T02:20:05.095669Z"
    },
    "papermill": {
     "duration": 0.041496,
     "end_time": "2023-07-20T02:20:05.099108",
     "exception": false,
     "start_time": "2023-07-20T02:20:05.057612",
     "status": "completed"
    },
    "tags": []
   },
   "outputs": [
    {
     "data": {
      "text/plain": [
       "0.7999876970680434"
      ]
     },
     "execution_count": 31,
     "metadata": {},
     "output_type": "execute_result"
    }
   ],
   "source": [
    "r2_score(y_test, y_pred)"
   ]
  },
  {
   "cell_type": "markdown",
   "id": "d3f2553a",
   "metadata": {
    "papermill": {
     "duration": 0.02752,
     "end_time": "2023-07-20T02:20:05.154569",
     "exception": false,
     "start_time": "2023-07-20T02:20:05.127049",
     "status": "completed"
    },
    "tags": []
   },
   "source": [
    "# Random Forest Regressor"
   ]
  },
  {
   "cell_type": "markdown",
   "id": "2c274756",
   "metadata": {
    "papermill": {
     "duration": 0.027887,
     "end_time": "2023-07-20T02:20:05.210256",
     "exception": false,
     "start_time": "2023-07-20T02:20:05.182369",
     "status": "completed"
    },
    "tags": []
   },
   "source": [
    "## III. Bulding the Model"
   ]
  },
  {
   "cell_type": "code",
   "execution_count": 32,
   "id": "cb8487e5",
   "metadata": {
    "execution": {
     "iopub.execute_input": "2023-07-20T02:20:05.270499Z",
     "iopub.status.busy": "2023-07-20T02:20:05.269963Z",
     "iopub.status.idle": "2023-07-20T02:20:05.605395Z",
     "shell.execute_reply": "2023-07-20T02:20:05.604259Z"
    },
    "papermill": {
     "duration": 0.370025,
     "end_time": "2023-07-20T02:20:05.608216",
     "exception": false,
     "start_time": "2023-07-20T02:20:05.238191",
     "status": "completed"
    },
    "tags": []
   },
   "outputs": [],
   "source": [
    "from sklearn.ensemble import RandomForestRegressor\n",
    "\n",
    "regressor_rm = RandomForestRegressor()"
   ]
  },
  {
   "cell_type": "markdown",
   "id": "fcdabc19",
   "metadata": {
    "papermill": {
     "duration": 0.026801,
     "end_time": "2023-07-20T02:20:05.662323",
     "exception": false,
     "start_time": "2023-07-20T02:20:05.635522",
     "status": "completed"
    },
    "tags": []
   },
   "source": [
    "## IV. Training the Model"
   ]
  },
  {
   "cell_type": "code",
   "execution_count": 33,
   "id": "1d7cb650",
   "metadata": {
    "execution": {
     "iopub.execute_input": "2023-07-20T02:20:05.720244Z",
     "iopub.status.busy": "2023-07-20T02:20:05.719064Z",
     "iopub.status.idle": "2023-07-20T02:20:06.182195Z",
     "shell.execute_reply": "2023-07-20T02:20:06.180794Z"
    },
    "papermill": {
     "duration": 0.495792,
     "end_time": "2023-07-20T02:20:06.184904",
     "exception": false,
     "start_time": "2023-07-20T02:20:05.689112",
     "status": "completed"
    },
    "tags": []
   },
   "outputs": [
    {
     "data": {
      "text/html": [
       "<style>#sk-container-id-2 {color: black;background-color: white;}#sk-container-id-2 pre{padding: 0;}#sk-container-id-2 div.sk-toggleable {background-color: white;}#sk-container-id-2 label.sk-toggleable__label {cursor: pointer;display: block;width: 100%;margin-bottom: 0;padding: 0.3em;box-sizing: border-box;text-align: center;}#sk-container-id-2 label.sk-toggleable__label-arrow:before {content: \"▸\";float: left;margin-right: 0.25em;color: #696969;}#sk-container-id-2 label.sk-toggleable__label-arrow:hover:before {color: black;}#sk-container-id-2 div.sk-estimator:hover label.sk-toggleable__label-arrow:before {color: black;}#sk-container-id-2 div.sk-toggleable__content {max-height: 0;max-width: 0;overflow: hidden;text-align: left;background-color: #f0f8ff;}#sk-container-id-2 div.sk-toggleable__content pre {margin: 0.2em;color: black;border-radius: 0.25em;background-color: #f0f8ff;}#sk-container-id-2 input.sk-toggleable__control:checked~div.sk-toggleable__content {max-height: 200px;max-width: 100%;overflow: auto;}#sk-container-id-2 input.sk-toggleable__control:checked~label.sk-toggleable__label-arrow:before {content: \"▾\";}#sk-container-id-2 div.sk-estimator input.sk-toggleable__control:checked~label.sk-toggleable__label {background-color: #d4ebff;}#sk-container-id-2 div.sk-label input.sk-toggleable__control:checked~label.sk-toggleable__label {background-color: #d4ebff;}#sk-container-id-2 input.sk-hidden--visually {border: 0;clip: rect(1px 1px 1px 1px);clip: rect(1px, 1px, 1px, 1px);height: 1px;margin: -1px;overflow: hidden;padding: 0;position: absolute;width: 1px;}#sk-container-id-2 div.sk-estimator {font-family: monospace;background-color: #f0f8ff;border: 1px dotted black;border-radius: 0.25em;box-sizing: border-box;margin-bottom: 0.5em;}#sk-container-id-2 div.sk-estimator:hover {background-color: #d4ebff;}#sk-container-id-2 div.sk-parallel-item::after {content: \"\";width: 100%;border-bottom: 1px solid gray;flex-grow: 1;}#sk-container-id-2 div.sk-label:hover label.sk-toggleable__label {background-color: #d4ebff;}#sk-container-id-2 div.sk-serial::before {content: \"\";position: absolute;border-left: 1px solid gray;box-sizing: border-box;top: 0;bottom: 0;left: 50%;z-index: 0;}#sk-container-id-2 div.sk-serial {display: flex;flex-direction: column;align-items: center;background-color: white;padding-right: 0.2em;padding-left: 0.2em;position: relative;}#sk-container-id-2 div.sk-item {position: relative;z-index: 1;}#sk-container-id-2 div.sk-parallel {display: flex;align-items: stretch;justify-content: center;background-color: white;position: relative;}#sk-container-id-2 div.sk-item::before, #sk-container-id-2 div.sk-parallel-item::before {content: \"\";position: absolute;border-left: 1px solid gray;box-sizing: border-box;top: 0;bottom: 0;left: 50%;z-index: -1;}#sk-container-id-2 div.sk-parallel-item {display: flex;flex-direction: column;z-index: 1;position: relative;background-color: white;}#sk-container-id-2 div.sk-parallel-item:first-child::after {align-self: flex-end;width: 50%;}#sk-container-id-2 div.sk-parallel-item:last-child::after {align-self: flex-start;width: 50%;}#sk-container-id-2 div.sk-parallel-item:only-child::after {width: 0;}#sk-container-id-2 div.sk-dashed-wrapped {border: 1px dashed gray;margin: 0 0.4em 0.5em 0.4em;box-sizing: border-box;padding-bottom: 0.4em;background-color: white;}#sk-container-id-2 div.sk-label label {font-family: monospace;font-weight: bold;display: inline-block;line-height: 1.2em;}#sk-container-id-2 div.sk-label-container {text-align: center;}#sk-container-id-2 div.sk-container {/* jupyter's `normalize.less` sets `[hidden] { display: none; }` but bootstrap.min.css set `[hidden] { display: none !important; }` so we also need the `!important` here to be able to override the default hidden behavior on the sphinx rendered scikit-learn.org. See: https://github.com/scikit-learn/scikit-learn/issues/21755 */display: inline-block !important;position: relative;}#sk-container-id-2 div.sk-text-repr-fallback {display: none;}</style><div id=\"sk-container-id-2\" class=\"sk-top-container\"><div class=\"sk-text-repr-fallback\"><pre>RandomForestRegressor()</pre><b>In a Jupyter environment, please rerun this cell to show the HTML representation or trust the notebook. <br />On GitHub, the HTML representation is unable to render, please try loading this page with nbviewer.org.</b></div><div class=\"sk-container\" hidden><div class=\"sk-item\"><div class=\"sk-estimator sk-toggleable\"><input class=\"sk-toggleable__control sk-hidden--visually\" id=\"sk-estimator-id-2\" type=\"checkbox\" checked><label for=\"sk-estimator-id-2\" class=\"sk-toggleable__label sk-toggleable__label-arrow\">RandomForestRegressor</label><div class=\"sk-toggleable__content\"><pre>RandomForestRegressor()</pre></div></div></div></div></div>"
      ],
      "text/plain": [
       "RandomForestRegressor()"
      ]
     },
     "execution_count": 33,
     "metadata": {},
     "output_type": "execute_result"
    }
   ],
   "source": [
    "regressor_rm.fit(x_train, y_train)"
   ]
  },
  {
   "cell_type": "markdown",
   "id": "a9702731",
   "metadata": {
    "papermill": {
     "duration": 0.02757,
     "end_time": "2023-07-20T02:20:06.240791",
     "exception": false,
     "start_time": "2023-07-20T02:20:06.213221",
     "status": "completed"
    },
    "tags": []
   },
   "source": [
    "# V. Evaluating the Model"
   ]
  },
  {
   "cell_type": "markdown",
   "id": "afad66e0",
   "metadata": {
    "papermill": {
     "duration": 0.0275,
     "end_time": "2023-07-20T02:20:06.297099",
     "exception": false,
     "start_time": "2023-07-20T02:20:06.269599",
     "status": "completed"
    },
    "tags": []
   },
   "source": [
    "### Making the Prediction"
   ]
  },
  {
   "cell_type": "code",
   "execution_count": 34,
   "id": "80c19bd4",
   "metadata": {
    "execution": {
     "iopub.execute_input": "2023-07-20T02:20:06.353347Z",
     "iopub.status.busy": "2023-07-20T02:20:06.352876Z",
     "iopub.status.idle": "2023-07-20T02:20:06.376593Z",
     "shell.execute_reply": "2023-07-20T02:20:06.375306Z"
    },
    "papermill": {
     "duration": 0.055169,
     "end_time": "2023-07-20T02:20:06.379325",
     "exception": false,
     "start_time": "2023-07-20T02:20:06.324156",
     "status": "completed"
    },
    "tags": []
   },
   "outputs": [],
   "source": [
    "y_pred = regressor_rm.predict(x_test)"
   ]
  },
  {
   "cell_type": "markdown",
   "id": "5f226463",
   "metadata": {
    "papermill": {
     "duration": 0.027249,
     "end_time": "2023-07-20T02:20:06.435136",
     "exception": false,
     "start_time": "2023-07-20T02:20:06.407887",
     "status": "completed"
    },
    "tags": []
   },
   "source": [
    "### Getting the Results"
   ]
  },
  {
   "cell_type": "code",
   "execution_count": 35,
   "id": "637486b3",
   "metadata": {
    "execution": {
     "iopub.execute_input": "2023-07-20T02:20:06.493682Z",
     "iopub.status.busy": "2023-07-20T02:20:06.492269Z",
     "iopub.status.idle": "2023-07-20T02:20:06.502071Z",
     "shell.execute_reply": "2023-07-20T02:20:06.500762Z"
    },
    "papermill": {
     "duration": 0.042193,
     "end_time": "2023-07-20T02:20:06.505104",
     "exception": false,
     "start_time": "2023-07-20T02:20:06.462911",
     "status": "completed"
    },
    "tags": []
   },
   "outputs": [
    {
     "data": {
      "text/plain": [
       "0.8793331776637971"
      ]
     },
     "execution_count": 35,
     "metadata": {},
     "output_type": "execute_result"
    }
   ],
   "source": [
    "r2_score(y_test, y_pred)"
   ]
  },
  {
   "cell_type": "markdown",
   "id": "70b46264",
   "metadata": {
    "papermill": {
     "duration": 0.026882,
     "end_time": "2023-07-20T02:20:06.560227",
     "exception": false,
     "start_time": "2023-07-20T02:20:06.533345",
     "status": "completed"
    },
    "tags": []
   },
   "source": [
    "# XGBRF Regressor"
   ]
  },
  {
   "cell_type": "markdown",
   "id": "e673af24",
   "metadata": {
    "papermill": {
     "duration": 0.026893,
     "end_time": "2023-07-20T02:20:06.614753",
     "exception": false,
     "start_time": "2023-07-20T02:20:06.587860",
     "status": "completed"
    },
    "tags": []
   },
   "source": [
    "## III. Bulding the Model"
   ]
  },
  {
   "cell_type": "code",
   "execution_count": 36,
   "id": "a30d3278",
   "metadata": {
    "execution": {
     "iopub.execute_input": "2023-07-20T02:20:06.671298Z",
     "iopub.status.busy": "2023-07-20T02:20:06.670479Z",
     "iopub.status.idle": "2023-07-20T02:20:06.857294Z",
     "shell.execute_reply": "2023-07-20T02:20:06.855943Z"
    },
    "papermill": {
     "duration": 0.218452,
     "end_time": "2023-07-20T02:20:06.860290",
     "exception": false,
     "start_time": "2023-07-20T02:20:06.641838",
     "status": "completed"
    },
    "tags": []
   },
   "outputs": [],
   "source": [
    "from xgboost import XGBRFRegressor\n",
    "\n",
    "regressor_xgb = XGBRFRegressor()"
   ]
  },
  {
   "cell_type": "markdown",
   "id": "baf4a377",
   "metadata": {
    "papermill": {
     "duration": 0.026758,
     "end_time": "2023-07-20T02:20:06.915768",
     "exception": false,
     "start_time": "2023-07-20T02:20:06.889010",
     "status": "completed"
    },
    "tags": []
   },
   "source": [
    "## IV. Training the Model"
   ]
  },
  {
   "cell_type": "code",
   "execution_count": 37,
   "id": "608e805f",
   "metadata": {
    "execution": {
     "iopub.execute_input": "2023-07-20T02:20:06.974920Z",
     "iopub.status.busy": "2023-07-20T02:20:06.974515Z",
     "iopub.status.idle": "2023-07-20T02:20:07.141126Z",
     "shell.execute_reply": "2023-07-20T02:20:07.140182Z"
    },
    "papermill": {
     "duration": 0.199756,
     "end_time": "2023-07-20T02:20:07.144223",
     "exception": false,
     "start_time": "2023-07-20T02:20:06.944467",
     "status": "completed"
    },
    "tags": []
   },
   "outputs": [
    {
     "data": {
      "text/html": [
       "<style>#sk-container-id-3 {color: black;background-color: white;}#sk-container-id-3 pre{padding: 0;}#sk-container-id-3 div.sk-toggleable {background-color: white;}#sk-container-id-3 label.sk-toggleable__label {cursor: pointer;display: block;width: 100%;margin-bottom: 0;padding: 0.3em;box-sizing: border-box;text-align: center;}#sk-container-id-3 label.sk-toggleable__label-arrow:before {content: \"▸\";float: left;margin-right: 0.25em;color: #696969;}#sk-container-id-3 label.sk-toggleable__label-arrow:hover:before {color: black;}#sk-container-id-3 div.sk-estimator:hover label.sk-toggleable__label-arrow:before {color: black;}#sk-container-id-3 div.sk-toggleable__content {max-height: 0;max-width: 0;overflow: hidden;text-align: left;background-color: #f0f8ff;}#sk-container-id-3 div.sk-toggleable__content pre {margin: 0.2em;color: black;border-radius: 0.25em;background-color: #f0f8ff;}#sk-container-id-3 input.sk-toggleable__control:checked~div.sk-toggleable__content {max-height: 200px;max-width: 100%;overflow: auto;}#sk-container-id-3 input.sk-toggleable__control:checked~label.sk-toggleable__label-arrow:before {content: \"▾\";}#sk-container-id-3 div.sk-estimator input.sk-toggleable__control:checked~label.sk-toggleable__label {background-color: #d4ebff;}#sk-container-id-3 div.sk-label input.sk-toggleable__control:checked~label.sk-toggleable__label {background-color: #d4ebff;}#sk-container-id-3 input.sk-hidden--visually {border: 0;clip: rect(1px 1px 1px 1px);clip: rect(1px, 1px, 1px, 1px);height: 1px;margin: -1px;overflow: hidden;padding: 0;position: absolute;width: 1px;}#sk-container-id-3 div.sk-estimator {font-family: monospace;background-color: #f0f8ff;border: 1px dotted black;border-radius: 0.25em;box-sizing: border-box;margin-bottom: 0.5em;}#sk-container-id-3 div.sk-estimator:hover {background-color: #d4ebff;}#sk-container-id-3 div.sk-parallel-item::after {content: \"\";width: 100%;border-bottom: 1px solid gray;flex-grow: 1;}#sk-container-id-3 div.sk-label:hover label.sk-toggleable__label {background-color: #d4ebff;}#sk-container-id-3 div.sk-serial::before {content: \"\";position: absolute;border-left: 1px solid gray;box-sizing: border-box;top: 0;bottom: 0;left: 50%;z-index: 0;}#sk-container-id-3 div.sk-serial {display: flex;flex-direction: column;align-items: center;background-color: white;padding-right: 0.2em;padding-left: 0.2em;position: relative;}#sk-container-id-3 div.sk-item {position: relative;z-index: 1;}#sk-container-id-3 div.sk-parallel {display: flex;align-items: stretch;justify-content: center;background-color: white;position: relative;}#sk-container-id-3 div.sk-item::before, #sk-container-id-3 div.sk-parallel-item::before {content: \"\";position: absolute;border-left: 1px solid gray;box-sizing: border-box;top: 0;bottom: 0;left: 50%;z-index: -1;}#sk-container-id-3 div.sk-parallel-item {display: flex;flex-direction: column;z-index: 1;position: relative;background-color: white;}#sk-container-id-3 div.sk-parallel-item:first-child::after {align-self: flex-end;width: 50%;}#sk-container-id-3 div.sk-parallel-item:last-child::after {align-self: flex-start;width: 50%;}#sk-container-id-3 div.sk-parallel-item:only-child::after {width: 0;}#sk-container-id-3 div.sk-dashed-wrapped {border: 1px dashed gray;margin: 0 0.4em 0.5em 0.4em;box-sizing: border-box;padding-bottom: 0.4em;background-color: white;}#sk-container-id-3 div.sk-label label {font-family: monospace;font-weight: bold;display: inline-block;line-height: 1.2em;}#sk-container-id-3 div.sk-label-container {text-align: center;}#sk-container-id-3 div.sk-container {/* jupyter's `normalize.less` sets `[hidden] { display: none; }` but bootstrap.min.css set `[hidden] { display: none !important; }` so we also need the `!important` here to be able to override the default hidden behavior on the sphinx rendered scikit-learn.org. See: https://github.com/scikit-learn/scikit-learn/issues/21755 */display: inline-block !important;position: relative;}#sk-container-id-3 div.sk-text-repr-fallback {display: none;}</style><div id=\"sk-container-id-3\" class=\"sk-top-container\"><div class=\"sk-text-repr-fallback\"><pre>XGBRFRegressor(base_score=None, booster=None, callbacks=None,\n",
       "               colsample_bylevel=None, colsample_bytree=None,\n",
       "               early_stopping_rounds=None, enable_categorical=False,\n",
       "               eval_metric=None, feature_types=None, gamma=None, gpu_id=None,\n",
       "               grow_policy=None, importance_type=None,\n",
       "               interaction_constraints=None, max_bin=None,\n",
       "               max_cat_threshold=None, max_cat_to_onehot=None,\n",
       "               max_delta_step=None, max_depth=None, max_leaves=None,\n",
       "               min_child_weight=None, missing=nan, monotone_constraints=None,\n",
       "               n_estimators=100, n_jobs=None, num_parallel_tree=None,\n",
       "               objective=&#x27;reg:squarederror&#x27;, predictor=None, random_state=None,\n",
       "               reg_alpha=None, ...)</pre><b>In a Jupyter environment, please rerun this cell to show the HTML representation or trust the notebook. <br />On GitHub, the HTML representation is unable to render, please try loading this page with nbviewer.org.</b></div><div class=\"sk-container\" hidden><div class=\"sk-item\"><div class=\"sk-estimator sk-toggleable\"><input class=\"sk-toggleable__control sk-hidden--visually\" id=\"sk-estimator-id-3\" type=\"checkbox\" checked><label for=\"sk-estimator-id-3\" class=\"sk-toggleable__label sk-toggleable__label-arrow\">XGBRFRegressor</label><div class=\"sk-toggleable__content\"><pre>XGBRFRegressor(base_score=None, booster=None, callbacks=None,\n",
       "               colsample_bylevel=None, colsample_bytree=None,\n",
       "               early_stopping_rounds=None, enable_categorical=False,\n",
       "               eval_metric=None, feature_types=None, gamma=None, gpu_id=None,\n",
       "               grow_policy=None, importance_type=None,\n",
       "               interaction_constraints=None, max_bin=None,\n",
       "               max_cat_threshold=None, max_cat_to_onehot=None,\n",
       "               max_delta_step=None, max_depth=None, max_leaves=None,\n",
       "               min_child_weight=None, missing=nan, monotone_constraints=None,\n",
       "               n_estimators=100, n_jobs=None, num_parallel_tree=None,\n",
       "               objective=&#x27;reg:squarederror&#x27;, predictor=None, random_state=None,\n",
       "               reg_alpha=None, ...)</pre></div></div></div></div></div>"
      ],
      "text/plain": [
       "XGBRFRegressor(base_score=None, booster=None, callbacks=None,\n",
       "               colsample_bylevel=None, colsample_bytree=None,\n",
       "               early_stopping_rounds=None, enable_categorical=False,\n",
       "               eval_metric=None, feature_types=None, gamma=None, gpu_id=None,\n",
       "               grow_policy=None, importance_type=None,\n",
       "               interaction_constraints=None, max_bin=None,\n",
       "               max_cat_threshold=None, max_cat_to_onehot=None,\n",
       "               max_delta_step=None, max_depth=None, max_leaves=None,\n",
       "               min_child_weight=None, missing=nan, monotone_constraints=None,\n",
       "               n_estimators=100, n_jobs=None, num_parallel_tree=None,\n",
       "               objective='reg:squarederror', predictor=None, random_state=None,\n",
       "               reg_alpha=None, ...)"
      ]
     },
     "execution_count": 37,
     "metadata": {},
     "output_type": "execute_result"
    }
   ],
   "source": [
    "regressor_xgb.fit(x_train, y_train)"
   ]
  },
  {
   "cell_type": "markdown",
   "id": "76d550e5",
   "metadata": {
    "papermill": {
     "duration": 0.027227,
     "end_time": "2023-07-20T02:20:07.199122",
     "exception": false,
     "start_time": "2023-07-20T02:20:07.171895",
     "status": "completed"
    },
    "tags": []
   },
   "source": [
    "# V. Evaluating the Model"
   ]
  },
  {
   "cell_type": "markdown",
   "id": "0c3abd06",
   "metadata": {
    "papermill": {
     "duration": 0.027987,
     "end_time": "2023-07-20T02:20:07.258590",
     "exception": false,
     "start_time": "2023-07-20T02:20:07.230603",
     "status": "completed"
    },
    "tags": []
   },
   "source": [
    "### Making the Prediction"
   ]
  },
  {
   "cell_type": "code",
   "execution_count": 38,
   "id": "c15a23e2",
   "metadata": {
    "execution": {
     "iopub.execute_input": "2023-07-20T02:20:07.316774Z",
     "iopub.status.busy": "2023-07-20T02:20:07.316008Z",
     "iopub.status.idle": "2023-07-20T02:20:07.332355Z",
     "shell.execute_reply": "2023-07-20T02:20:07.331109Z"
    },
    "papermill": {
     "duration": 0.048483,
     "end_time": "2023-07-20T02:20:07.335261",
     "exception": false,
     "start_time": "2023-07-20T02:20:07.286778",
     "status": "completed"
    },
    "tags": []
   },
   "outputs": [],
   "source": [
    "y_pred = regressor_xgb.predict(x_test)"
   ]
  },
  {
   "cell_type": "markdown",
   "id": "7adb3823",
   "metadata": {
    "papermill": {
     "duration": 0.028316,
     "end_time": "2023-07-20T02:20:07.393038",
     "exception": false,
     "start_time": "2023-07-20T02:20:07.364722",
     "status": "completed"
    },
    "tags": []
   },
   "source": [
    "### Getting the Results"
   ]
  },
  {
   "cell_type": "code",
   "execution_count": 39,
   "id": "81ba85d3",
   "metadata": {
    "execution": {
     "iopub.execute_input": "2023-07-20T02:20:07.455013Z",
     "iopub.status.busy": "2023-07-20T02:20:07.453906Z",
     "iopub.status.idle": "2023-07-20T02:20:07.463482Z",
     "shell.execute_reply": "2023-07-20T02:20:07.461831Z"
    },
    "papermill": {
     "duration": 0.043423,
     "end_time": "2023-07-20T02:20:07.466379",
     "exception": false,
     "start_time": "2023-07-20T02:20:07.422956",
     "status": "completed"
    },
    "tags": []
   },
   "outputs": [
    {
     "data": {
      "text/plain": [
       "0.8953971644895995"
      ]
     },
     "execution_count": 39,
     "metadata": {},
     "output_type": "execute_result"
    }
   ],
   "source": [
    "r2_score(y_test, y_pred)"
   ]
  },
  {
   "cell_type": "markdown",
   "id": "7f0bce04",
   "metadata": {
    "papermill": {
     "duration": 0.028442,
     "end_time": "2023-07-20T02:20:07.525846",
     "exception": false,
     "start_time": "2023-07-20T02:20:07.497404",
     "status": "completed"
    },
    "tags": []
   },
   "source": [
    "# VII. Making the Prediction"
   ]
  },
  {
   "cell_type": "code",
   "execution_count": 40,
   "id": "2ec9f710",
   "metadata": {
    "execution": {
     "iopub.execute_input": "2023-07-20T02:20:07.586150Z",
     "iopub.status.busy": "2023-07-20T02:20:07.585680Z",
     "iopub.status.idle": "2023-07-20T02:20:07.602464Z",
     "shell.execute_reply": "2023-07-20T02:20:07.601102Z"
    },
    "papermill": {
     "duration": 0.050225,
     "end_time": "2023-07-20T02:20:07.605128",
     "exception": false,
     "start_time": "2023-07-20T02:20:07.554903",
     "status": "completed"
    },
    "tags": []
   },
   "outputs": [
    {
     "data": {
      "text/html": [
       "<div>\n",
       "<style scoped>\n",
       "    .dataframe tbody tr th:only-of-type {\n",
       "        vertical-align: middle;\n",
       "    }\n",
       "\n",
       "    .dataframe tbody tr th {\n",
       "        vertical-align: top;\n",
       "    }\n",
       "\n",
       "    .dataframe thead th {\n",
       "        text-align: right;\n",
       "    }\n",
       "</style>\n",
       "<table border=\"1\" class=\"dataframe\">\n",
       "  <thead>\n",
       "    <tr style=\"text-align: right;\">\n",
       "      <th></th>\n",
       "      <th>age</th>\n",
       "      <th>bmi</th>\n",
       "      <th>children</th>\n",
       "      <th>charges</th>\n",
       "      <th>sex_male</th>\n",
       "      <th>smoker_yes</th>\n",
       "      <th>region_northwest</th>\n",
       "      <th>region_southeast</th>\n",
       "      <th>region_southwest</th>\n",
       "    </tr>\n",
       "  </thead>\n",
       "  <tbody>\n",
       "    <tr>\n",
       "      <th>0</th>\n",
       "      <td>19</td>\n",
       "      <td>27.900</td>\n",
       "      <td>0</td>\n",
       "      <td>16884.92400</td>\n",
       "      <td>0</td>\n",
       "      <td>1</td>\n",
       "      <td>0</td>\n",
       "      <td>0</td>\n",
       "      <td>1</td>\n",
       "    </tr>\n",
       "    <tr>\n",
       "      <th>1</th>\n",
       "      <td>18</td>\n",
       "      <td>33.770</td>\n",
       "      <td>1</td>\n",
       "      <td>1725.55230</td>\n",
       "      <td>1</td>\n",
       "      <td>0</td>\n",
       "      <td>0</td>\n",
       "      <td>1</td>\n",
       "      <td>0</td>\n",
       "    </tr>\n",
       "    <tr>\n",
       "      <th>2</th>\n",
       "      <td>28</td>\n",
       "      <td>33.000</td>\n",
       "      <td>3</td>\n",
       "      <td>4449.46200</td>\n",
       "      <td>1</td>\n",
       "      <td>0</td>\n",
       "      <td>0</td>\n",
       "      <td>1</td>\n",
       "      <td>0</td>\n",
       "    </tr>\n",
       "    <tr>\n",
       "      <th>3</th>\n",
       "      <td>33</td>\n",
       "      <td>22.705</td>\n",
       "      <td>0</td>\n",
       "      <td>21984.47061</td>\n",
       "      <td>1</td>\n",
       "      <td>0</td>\n",
       "      <td>1</td>\n",
       "      <td>0</td>\n",
       "      <td>0</td>\n",
       "    </tr>\n",
       "    <tr>\n",
       "      <th>4</th>\n",
       "      <td>32</td>\n",
       "      <td>28.880</td>\n",
       "      <td>0</td>\n",
       "      <td>3866.85520</td>\n",
       "      <td>1</td>\n",
       "      <td>0</td>\n",
       "      <td>1</td>\n",
       "      <td>0</td>\n",
       "      <td>0</td>\n",
       "    </tr>\n",
       "  </tbody>\n",
       "</table>\n",
       "</div>"
      ],
      "text/plain": [
       "   age     bmi  children      charges  sex_male  smoker_yes  region_northwest  \\\n",
       "0   19  27.900         0  16884.92400         0           1                 0   \n",
       "1   18  33.770         1   1725.55230         1           0                 0   \n",
       "2   28  33.000         3   4449.46200         1           0                 0   \n",
       "3   33  22.705         0  21984.47061         1           0                 1   \n",
       "4   32  28.880         0   3866.85520         1           0                 1   \n",
       "\n",
       "   region_southeast  region_southwest  \n",
       "0                 0                 1  \n",
       "1                 1                 0  \n",
       "2                 1                 0  \n",
       "3                 0                 0  \n",
       "4                 0                 0  "
      ]
     },
     "execution_count": 40,
     "metadata": {},
     "output_type": "execute_result"
    }
   ],
   "source": [
    "dataset.head()"
   ]
  },
  {
   "cell_type": "code",
   "execution_count": 41,
   "id": "25a19996",
   "metadata": {
    "execution": {
     "iopub.execute_input": "2023-07-20T02:20:07.665771Z",
     "iopub.status.busy": "2023-07-20T02:20:07.665300Z",
     "iopub.status.idle": "2023-07-20T02:20:07.672718Z",
     "shell.execute_reply": "2023-07-20T02:20:07.671290Z"
    },
    "papermill": {
     "duration": 0.041876,
     "end_time": "2023-07-20T02:20:07.675392",
     "exception": false,
     "start_time": "2023-07-20T02:20:07.633516",
     "status": "completed"
    },
    "tags": []
   },
   "outputs": [],
   "source": [
    "single_obs=[[19, 27.900, 0, 0, 1, 0, 0, 1]]"
   ]
  },
  {
   "cell_type": "code",
   "execution_count": 42,
   "id": "c162201b",
   "metadata": {
    "execution": {
     "iopub.execute_input": "2023-07-20T02:20:07.735106Z",
     "iopub.status.busy": "2023-07-20T02:20:07.734680Z",
     "iopub.status.idle": "2023-07-20T02:20:07.759341Z",
     "shell.execute_reply": "2023-07-20T02:20:07.757808Z"
    },
    "papermill": {
     "duration": 0.05791,
     "end_time": "2023-07-20T02:20:07.762319",
     "exception": false,
     "start_time": "2023-07-20T02:20:07.704409",
     "status": "completed"
    },
    "tags": []
   },
   "outputs": [
    {
     "name": "stderr",
     "output_type": "stream",
     "text": [
      "/opt/conda/lib/python3.10/site-packages/sklearn/base.py:439: UserWarning: X does not have valid feature names, but StandardScaler was fitted with feature names\n",
      "  warnings.warn(\n"
     ]
    },
    {
     "data": {
      "text/plain": [
       "array([17345.082], dtype=float32)"
      ]
     },
     "execution_count": 42,
     "metadata": {},
     "output_type": "execute_result"
    }
   ],
   "source": [
    "regressor_xgb.predict(sc.transform(single_obs))"
   ]
  },
  {
   "cell_type": "code",
   "execution_count": 43,
   "id": "a078b48c",
   "metadata": {
    "execution": {
     "iopub.execute_input": "2023-07-20T02:20:07.823342Z",
     "iopub.status.busy": "2023-07-20T02:20:07.822872Z",
     "iopub.status.idle": "2023-07-20T02:20:07.828921Z",
     "shell.execute_reply": "2023-07-20T02:20:07.827693Z"
    },
    "papermill": {
     "duration": 0.039107,
     "end_time": "2023-07-20T02:20:07.831498",
     "exception": false,
     "start_time": "2023-07-20T02:20:07.792391",
     "status": "completed"
    },
    "tags": []
   },
   "outputs": [],
   "source": [
    "single_obs_2=[[32,\t28.880,\t0,\t1,\t0,\t1,\t0,\t0]]"
   ]
  },
  {
   "cell_type": "code",
   "execution_count": 44,
   "id": "497e7a83",
   "metadata": {
    "execution": {
     "iopub.execute_input": "2023-07-20T02:20:07.891902Z",
     "iopub.status.busy": "2023-07-20T02:20:07.891382Z",
     "iopub.status.idle": "2023-07-20T02:20:07.907279Z",
     "shell.execute_reply": "2023-07-20T02:20:07.906184Z"
    },
    "papermill": {
     "duration": 0.049181,
     "end_time": "2023-07-20T02:20:07.910090",
     "exception": false,
     "start_time": "2023-07-20T02:20:07.860909",
     "status": "completed"
    },
    "tags": []
   },
   "outputs": [
    {
     "name": "stderr",
     "output_type": "stream",
     "text": [
      "/opt/conda/lib/python3.10/site-packages/sklearn/base.py:439: UserWarning: X does not have valid feature names, but StandardScaler was fitted with feature names\n",
      "  warnings.warn(\n"
     ]
    },
    {
     "data": {
      "text/plain": [
       "array([4641.8613], dtype=float32)"
      ]
     },
     "execution_count": 44,
     "metadata": {},
     "output_type": "execute_result"
    }
   ],
   "source": [
    "regressor_xgb.predict(sc.transform(single_obs_2))"
   ]
  }
 ],
 "metadata": {
  "kernelspec": {
   "display_name": "Python 3",
   "language": "python",
   "name": "python3"
  },
  "language_info": {
   "codemirror_mode": {
    "name": "ipython",
    "version": 3
   },
   "file_extension": ".py",
   "mimetype": "text/x-python",
   "name": "python",
   "nbconvert_exporter": "python",
   "pygments_lexer": "ipython3",
   "version": "3.10.12"
  },
  "papermill": {
   "default_parameters": {},
   "duration": 25.114353,
   "end_time": "2023-07-20T02:20:09.166816",
   "environment_variables": {},
   "exception": null,
   "input_path": "__notebook__.ipynb",
   "output_path": "__notebook__.ipynb",
   "parameters": {},
   "start_time": "2023-07-20T02:19:44.052463",
   "version": "2.4.0"
  }
 },
 "nbformat": 4,
 "nbformat_minor": 5
}
